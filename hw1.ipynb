{
 "cells": [
  {
   "cell_type": "markdown",
   "metadata": {},
   "source": [
    "# Gradient Descent"
   ]
  },
  {
   "cell_type": "markdown",
   "metadata": {},
   "source": [
    "gradient descent 방법을 적용하여 다음 함수의 최저점을 구하여라.$$ f(x) = \\frac{1}{2}x^4 -3 x^3 $$"
   ]
  },
  {
   "cell_type": "code",
   "execution_count": 134,
   "metadata": {},
   "outputs": [],
   "source": [
    "import numpy as np\n",
    "import matplotlib.pyplot as plt"
   ]
  },
  {
   "cell_type": "code",
   "execution_count": 135,
   "metadata": {
    "scrolled": true
   },
   "outputs": [
    {
     "data": {
      "text/plain": [
       "[<matplotlib.lines.Line2D at 0x1d038519040>]"
      ]
     },
     "execution_count": 135,
     "metadata": {},
     "output_type": "execute_result"
    },
    {
     "data": {
      "image/png": "[encoded data removed]",
      "text/plain": [
       "<Figure size 432x288 with 1 Axes>"
      ]
     },
     "metadata": {
      "needs_background": "light"
     },
     "output_type": "display_data"
    }
   ],
   "source": [
    "x =np.arange(-10,10,0.01)\n",
    "\n",
    "def f(x):\n",
    "    return 0.5*(x**4)-3*(x**3)\n",
    "\n",
    "plt.ylim(-100,100)\n",
    "plt.xlim(-5,10)\n",
    "\n",
    "plt.plot(x,f(x))"
   ]
  },
  {
   "cell_type": "code",
   "execution_count": 136,
   "metadata": {},
   "outputs": [],
   "source": [
    "x = 5\n",
    "x_old = 7\n",
    "eps = 0.01\n",
    "precision = 0.00000001\n",
    "\n",
    "def fp(x):\n",
    "    return 2*(x**3)-9*(x**2)"
   ]
  },
  {
   "cell_type": "code",
   "execution_count": 137,
   "metadata": {},
   "outputs": [
    {
     "data": {
      "text/plain": [
       "4.500000012691155"
      ]
     },
     "execution_count": 137,
     "metadata": {},
     "output_type": "execute_result"
    }
   ],
   "source": [
    "while (abs(x-x_old)>precision):\n",
    "    x_old = x\n",
    "    x= x_old - eps*fp(x_old)\n",
    "    \n",
    "x"
   ]
  },
  {
   "cell_type": "markdown",
   "metadata": {},
   "source": [
    "# Diabetes (regression)"
   ]
  },
  {
   "cell_type": "markdown",
   "metadata": {},
   "source": [
    "다음의 당뇨 데이터를 회귀 분석하여라. 나이, BMI, 혈압, Y (당뇨병 진행 정도) 데이터를 이용하여라.\n",
    "\n",
    "1. sklearn을 이용하지 않고 (자신의 코드로)\n",
    "2. sklearn을 이용해서"
   ]
  },
  {
   "cell_type": "code",
   "execution_count": 138,
   "metadata": {},
   "outputs": [],
   "source": [
    "from sklearn import datasets"
   ]
  },
  {
   "cell_type": "code",
   "execution_count": 139,
   "metadata": {},
   "outputs": [],
   "source": [
    "diabetes=datasets.load_diabetes()"
   ]
  },
  {
   "cell_type": "code",
   "execution_count": 140,
   "metadata": {},
   "outputs": [
    {
     "data": {
      "text/plain": [
       "dict_keys(['data', 'target', 'frame', 'DESCR', 'feature_names', 'data_filename', 'target_filename'])"
      ]
     },
     "execution_count": 140,
     "metadata": {},
     "output_type": "execute_result"
    }
   ],
   "source": [
    "diabetes.keys()"
   ]
  },
  {
   "cell_type": "code",
   "execution_count": 141,
   "metadata": {},
   "outputs": [
    {
     "data": {
      "text/plain": [
       "'.. _diabetes_dataset:\\n\\nDiabetes dataset\\n----------------\\n\\nTen baseline variables, age, sex, body mass index, average blood\\npressure, and six blood serum measurements were obtained for each of n =\\n442 diabetes patients, as well as the response of interest, a\\nquantitative measure of disease progression one year after baseline.\\n\\n**Data Set Characteristics:**\\n\\n  :Number of Instances: 442\\n\\n  :Number of Attributes: First 10 columns are numeric predictive values\\n\\n  :Target: Column 11 is a quantitative measure of disease progression one year after baseline\\n\\n  :Attribute Information:\\n      - age     age in years\\n      - sex\\n      - bmi     body mass index\\n      - bp      average blood pressure\\n      - s1      tc, T-Cells (a type of white blood cells)\\n      - s2      ldl, low-density lipoproteins\\n      - s3      hdl, high-density lipoproteins\\n      - s4      tch, thyroid stimulating hormone\\n      - s5      ltg, lamotrigine\\n      - s6      glu, blood sugar level\\n\\nNote: Each of these 10 feature variables have been mean centered and scaled by the standard deviation times `n_samples` (i.e. the sum of squares of each column totals 1).\\n\\nSource URL:\\nhttps://www4.stat.ncsu.edu/~boos/var.select/diabetes.html\\n\\nFor more information see:\\nBradley Efron, Trevor Hastie, Iain Johnstone and Robert Tibshirani (2004) \"Least Angle Regression,\" Annals of Statistics (with discussion), 407-499.\\n(https://web.stanford.edu/~hastie/Papers/LARS/LeastAngle_2002.pdf)'"
      ]
     },
     "execution_count": 141,
     "metadata": {},
     "output_type": "execute_result"
    }
   ],
   "source": [
    "diabetes.DESCR"
   ]
  },
  {
   "cell_type": "code",
   "execution_count": 142,
   "metadata": {},
   "outputs": [],
   "source": [
    "X_age=diabetes.data[:,0]\n",
    "X_bmi=diabetes.data[:,2]\n",
    "X_p=diabetes.data[:,3]\n",
    "Y=diabetes.target"
   ]
  },
  {
   "cell_type": "code",
   "execution_count": 143,
   "metadata": {},
   "outputs": [
    {
     "data": {
      "text/plain": [
       "array([ 0.03807591, -0.00188202,  0.08529891, -0.08906294,  0.00538306,\n",
       "       -0.09269548, -0.04547248,  0.06350368,  0.04170844, -0.07090025,\n",
       "       -0.09632802,  0.02717829,  0.01628068,  0.00538306,  0.04534098,\n",
       "       -0.05273755, -0.00551455,  0.07076875, -0.0382074 , -0.02730979,\n",
       "       -0.04910502, -0.0854304 , -0.0854304 ,  0.04534098, -0.06363517,\n",
       "       -0.06726771, -0.10722563, -0.02367725,  0.05260606,  0.06713621,\n",
       "       -0.06000263, -0.02367725,  0.03444337,  0.03081083,  0.01628068,\n",
       "        0.04897352,  0.01264814, -0.00914709, -0.00188202, -0.00188202,\n",
       "        0.00538306, -0.09996055, -0.06000263,  0.01991321,  0.04534098,\n",
       "        0.02717829, -0.05637009, -0.07816532,  0.06713621, -0.04183994,\n",
       "        0.03444337,  0.05987114, -0.05273755, -0.00914709, -0.04910502,\n",
       "       -0.04183994, -0.04183994, -0.02730979,  0.04170844,  0.06350368,\n",
       "       -0.07090025, -0.04183994, -0.02730979, -0.03457486,  0.06713621,\n",
       "       -0.04547248, -0.00914709,  0.04170844,  0.03807591,  0.01628068,\n",
       "       -0.00188202, -0.00188202,  0.06350368,  0.01264814,  0.01264814,\n",
       "       -0.00914709, -0.03094232, -0.09632802,  0.00538306, -0.10359309,\n",
       "        0.07076875,  0.01264814, -0.01641217, -0.0382074 ,  0.00175052,\n",
       "        0.04534098, -0.07090025,  0.04534098, -0.05273755, -0.04547248,\n",
       "        0.01264814,  0.04534098, -0.02004471, -0.04910502, -0.07816532,\n",
       "       -0.07090025,  0.0562386 , -0.02730979,  0.00175052, -0.00188202,\n",
       "        0.01628068,  0.01628068, -0.09269548,  0.05987114, -0.02730979,\n",
       "        0.02354575, -0.09632802,  0.02717829,  0.01991321,  0.03807591,\n",
       "        0.04170844,  0.01991321, -0.0854304 ,  0.01991321,  0.02354575,\n",
       "       -0.03094232,  0.04897352,  0.05987114, -0.05637009,  0.01628068,\n",
       "       -0.04910502,  0.06350368,  0.04897352,  0.00538306, -0.00551455,\n",
       "       -0.00551455, -0.08906294,  0.03444337, -0.05273755,  0.0090156 ,\n",
       "       -0.06363517, -0.09632802,  0.01628068, -0.04183994, -0.07453279,\n",
       "       -0.00551455, -0.09269548,  0.00538306,  0.03444337,  0.02354575,\n",
       "        0.04170844, -0.02730979,  0.04170844, -0.03094232,  0.03081083,\n",
       "       -0.04183994, -0.03094232, -0.05637009, -0.06000263, -0.04910502,\n",
       "        0.02354575,  0.00175052, -0.03457486,  0.04170844,  0.06713621,\n",
       "       -0.02730979, -0.01641217, -0.00188202, -0.01277963, -0.00551455,\n",
       "       -0.00914709, -0.04547248, -0.05273755,  0.01628068,  0.04534098,\n",
       "       -0.04183994, -0.05637009,  0.07076875,  0.00175052, -0.00188202,\n",
       "        0.02354575, -0.02004471,  0.04170844, -0.06363517,  0.01628068,\n",
       "        0.06713621,  0.04534098,  0.04897352,  0.04170844, -0.02367725,\n",
       "       -0.0382074 ,  0.04897352,  0.04534098,  0.04534098,  0.01628068,\n",
       "       -0.07453279, -0.08179786, -0.06726771,  0.00538306, -0.00188202,\n",
       "        0.0090156 , -0.00551455,  0.0562386 ,  0.0090156 , -0.06726771,\n",
       "        0.02717829, -0.02367725,  0.04897352, -0.05273755,  0.04170844,\n",
       "        0.0562386 , -0.03457486,  0.08166637, -0.00188202,  0.11072668,\n",
       "       -0.03094232,  0.00175052,  0.0090156 ,  0.03081083,  0.03807591,\n",
       "        0.0090156 ,  0.09256398,  0.06713621,  0.00175052,  0.03081083,\n",
       "        0.02717829,  0.01264814,  0.07440129, -0.04183994, -0.08906294,\n",
       "        0.02354575, -0.04547248, -0.02367725, -0.09996055, -0.02730979,\n",
       "        0.03081083, -0.10359309,  0.06713621, -0.05273755, -0.02730979,\n",
       "       -0.0382074 ,  0.0090156 ,  0.01264814,  0.06713621,  0.04534098,\n",
       "        0.06713621,  0.02717829,  0.0562386 ,  0.03444337,  0.02354575,\n",
       "        0.04897352,  0.03081083, -0.10359309,  0.01628068, -0.06000263,\n",
       "       -0.02730979,  0.04170844, -0.08179786, -0.04183994, -0.01277963,\n",
       "        0.06713621, -0.05273755,  0.00538306,  0.08166637,  0.03081083,\n",
       "        0.00175052, -0.04910502, -0.02730979,  0.07803383,  0.01264814,\n",
       "        0.04170844,  0.04897352, -0.01641217, -0.07453279,  0.03444337,\n",
       "       -0.03457486, -0.05273755,  0.05987114,  0.06350368,  0.0090156 ,\n",
       "        0.00538306,  0.03807591,  0.01264814,  0.07440129,  0.01628068,\n",
       "       -0.00551455,  0.01264814, -0.03457486,  0.06713621,  0.03807591,\n",
       "        0.0090156 , -0.09269548,  0.07076875, -0.01641217,  0.04170844,\n",
       "        0.01264814, -0.0382074 ,  0.04534098,  0.07076875, -0.07453279,\n",
       "        0.05987114,  0.07440129,  0.0090156 , -0.07090025,  0.02354575,\n",
       "       -0.05273755,  0.06713621,  0.00175052,  0.02354575,  0.03807591,\n",
       "        0.01628068, -0.00188202,  0.01264814,  0.07440129,  0.04170844,\n",
       "       -0.00914709,  0.0090156 ,  0.06713621,  0.00175052, -0.00914709,\n",
       "       -0.00551455,  0.09619652, -0.07453279,  0.05987114, -0.02367725,\n",
       "        0.0090156 ,  0.01628068,  0.01991321,  0.08893144,  0.01991321,\n",
       "       -0.02367725,  0.09619652,  0.02354575,  0.07076875,  0.03081083,\n",
       "       -0.00188202,  0.04534098,  0.07440129, -0.0382074 , -0.01277963,\n",
       "        0.0090156 ,  0.08166637,  0.03081083,  0.02717829, -0.06000263,\n",
       "        0.00538306, -0.02004471,  0.01991321, -0.06363517,  0.02717829,\n",
       "       -0.01641217,  0.03081083,  0.0562386 , -0.02004471, -0.10722563,\n",
       "        0.08166637,  0.00538306,  0.03807591,  0.03081083,  0.00175052,\n",
       "       -0.02730979, -0.0854304 ,  0.01264814, -0.05273755, -0.02367725,\n",
       "       -0.07453279, -0.00551455, -0.06000263, -0.02004471,  0.03807591,\n",
       "        0.01628068,  0.04170844,  0.01991321, -0.04910502,  0.00175052,\n",
       "        0.03444337, -0.04547248, -0.00914709, -0.01641217, -0.00914709,\n",
       "        0.01991321,  0.05260606, -0.02730979, -0.07453279, -0.10722563,\n",
       "        0.04534098, -0.00188202,  0.01991321,  0.01628068, -0.00188202,\n",
       "        0.01628068, -0.07090025,  0.04897352,  0.00538306,  0.03444337,\n",
       "        0.02354575,  0.01991321, -0.04547248,  0.05260606, -0.00551455,\n",
       "        0.0090156 , -0.02367725, -0.04183994, -0.07453279,  0.03444337,\n",
       "       -0.06000263, -0.0854304 ,  0.05260606,  0.01264814,  0.05987114,\n",
       "       -0.02367725,  0.01628068,  0.11072668, -0.02004471, -0.01641217,\n",
       "        0.04897352, -0.05637009,  0.02717829,  0.06350368, -0.05273755,\n",
       "       -0.00914709,  0.00538306,  0.07440129, -0.05273755,  0.08166637,\n",
       "       -0.00551455, -0.02730979, -0.05273755,  0.0090156 , -0.02004471,\n",
       "        0.02354575,  0.03807591, -0.07816532,  0.0090156 ,  0.00175052,\n",
       "       -0.07816532,  0.03081083, -0.03457486,  0.04897352, -0.04183994,\n",
       "       -0.00914709,  0.07076875,  0.0090156 , -0.02730979,  0.01628068,\n",
       "       -0.01277963, -0.05637009,  0.04170844, -0.00551455,  0.04170844,\n",
       "       -0.04547248, -0.04547248])"
      ]
     },
     "execution_count": 143,
     "metadata": {},
     "output_type": "execute_result"
    }
   ],
   "source": [
    "X_age"
   ]
  },
  {
   "cell_type": "code",
   "execution_count": 144,
   "metadata": {
    "scrolled": true
   },
   "outputs": [
    {
     "data": {
      "text/plain": [
       "array([ 0.06169621, -0.05147406,  0.04445121, -0.01159501, -0.03638469,\n",
       "       -0.04069594, -0.04716281, -0.00189471,  0.06169621,  0.03906215,\n",
       "       -0.08380842,  0.01750591, -0.02884001, -0.00189471, -0.02560657,\n",
       "       -0.01806189,  0.04229559,  0.01211685, -0.0105172 , -0.01806189,\n",
       "       -0.05686312, -0.02237314, -0.00405033,  0.06061839,  0.03582872,\n",
       "       -0.01267283, -0.07734155,  0.05954058, -0.02129532, -0.00620595,\n",
       "        0.04445121, -0.06548562,  0.12528712, -0.05039625, -0.06332999,\n",
       "       -0.03099563,  0.02289497,  0.01103904,  0.07139652,  0.01427248,\n",
       "       -0.00836158, -0.06764124, -0.0105172 , -0.02345095,  0.06816308,\n",
       "       -0.03530688, -0.01159501, -0.0730303 , -0.04177375,  0.01427248,\n",
       "       -0.00728377,  0.0164281 , -0.00943939, -0.01590626,  0.0250506 ,\n",
       "       -0.04931844,  0.04121778, -0.06332999, -0.06440781, -0.02560657,\n",
       "       -0.00405033,  0.00457217, -0.00728377, -0.0374625 , -0.02560657,\n",
       "       -0.02452876, -0.01806189, -0.01482845, -0.02991782, -0.046085  ,\n",
       "       -0.06979687,  0.03367309, -0.00405033, -0.02021751,  0.00241654,\n",
       "       -0.03099563,  0.02828403, -0.03638469, -0.05794093, -0.0374625 ,\n",
       "        0.01211685, -0.02237314, -0.03530688,  0.00996123, -0.03961813,\n",
       "        0.07139652, -0.07518593, -0.00620595, -0.04069594, -0.04824063,\n",
       "       -0.02560657,  0.0519959 ,  0.00457217, -0.06440781, -0.01698407,\n",
       "       -0.05794093,  0.00996123,  0.08864151, -0.00512814, -0.06440781,\n",
       "        0.01750591, -0.04500719,  0.02828403,  0.04121778,  0.06492964,\n",
       "       -0.03207344, -0.07626374,  0.04984027,  0.04552903, -0.00943939,\n",
       "       -0.03207344,  0.00457217,  0.02073935,  0.01427248,  0.11019775,\n",
       "        0.00133873,  0.05846277, -0.02129532, -0.0105172 , -0.04716281,\n",
       "        0.00457217,  0.01750591,  0.08109682,  0.0347509 ,  0.02397278,\n",
       "       -0.00836158, -0.06117437, -0.00189471, -0.06225218,  0.0164281 ,\n",
       "        0.09618619, -0.06979687, -0.02129532, -0.05362969,  0.0433734 ,\n",
       "        0.05630715, -0.0816528 ,  0.04984027,  0.11127556,  0.06169621,\n",
       "        0.01427248,  0.04768465,  0.01211685,  0.00564998,  0.04660684,\n",
       "        0.12852056,  0.05954058,  0.09295276,  0.01535029, -0.00512814,\n",
       "        0.0703187 , -0.00405033, -0.00081689, -0.04392938,  0.02073935,\n",
       "        0.06061839, -0.0105172 , -0.03315126, -0.06548562,  0.0433734 ,\n",
       "       -0.06225218,  0.06385183,  0.03043966,  0.07247433, -0.0191397 ,\n",
       "       -0.06656343, -0.06009656,  0.06924089,  0.05954058, -0.02668438,\n",
       "       -0.02021751, -0.046085  ,  0.07139652, -0.07949718,  0.00996123,\n",
       "       -0.03854032,  0.01966154,  0.02720622, -0.00836158, -0.01590626,\n",
       "        0.00457217, -0.04285156,  0.00564998, -0.03530688,  0.02397278,\n",
       "       -0.01806189,  0.04229559, -0.0547075 , -0.00297252, -0.06656343,\n",
       "       -0.01267283, -0.04177375, -0.03099563, -0.00512814, -0.05901875,\n",
       "        0.0250506 , -0.046085  ,  0.00349435,  0.05415152, -0.04500719,\n",
       "       -0.05794093, -0.05578531,  0.00133873,  0.03043966,  0.00672779,\n",
       "        0.04660684,  0.02612841,  0.04552903,  0.04013997, -0.01806189,\n",
       "        0.01427248,  0.03690653,  0.00349435, -0.07087468, -0.03315126,\n",
       "        0.09403057,  0.03582872,  0.03151747, -0.06548562, -0.04177375,\n",
       "       -0.03961813, -0.03854032, -0.02560657, -0.02345095, -0.06656343,\n",
       "        0.03259528, -0.046085  , -0.02991782, -0.01267283, -0.01590626,\n",
       "        0.07139652, -0.03099563,  0.00026092,  0.03690653,  0.03906215,\n",
       "       -0.01482845,  0.00672779, -0.06871905, -0.00943939,  0.01966154,\n",
       "        0.07462995, -0.00836158, -0.02345095, -0.046085  ,  0.05415152,\n",
       "       -0.03530688, -0.03207344, -0.0816528 ,  0.04768465,  0.06061839,\n",
       "        0.05630715,  0.09834182,  0.05954058,  0.03367309,  0.05630715,\n",
       "       -0.06548562,  0.16085492, -0.05578531, -0.02452876, -0.03638469,\n",
       "       -0.00836158, -0.04177375,  0.12744274, -0.07734155,  0.02828403,\n",
       "       -0.02560657, -0.06225218, -0.00081689,  0.08864151, -0.03207344,\n",
       "        0.03043966,  0.00888341,  0.00672779, -0.02021751, -0.02452876,\n",
       "       -0.01159501,  0.02612841, -0.05901875, -0.03638469, -0.02452876,\n",
       "        0.01858372, -0.0902753 , -0.00512814, -0.05255187, -0.02237314,\n",
       "       -0.02021751, -0.0547075 , -0.00620595, -0.01698407,  0.05522933,\n",
       "        0.07678558,  0.01858372, -0.02237314,  0.09295276, -0.03099563,\n",
       "        0.03906215, -0.06117437, -0.00836158, -0.0374625 , -0.01375064,\n",
       "        0.07355214, -0.02452876,  0.03367309,  0.0347509 , -0.03854032,\n",
       "       -0.03961813, -0.00189471, -0.03099563, -0.046085  ,  0.00133873,\n",
       "        0.06492964,  0.04013997, -0.02345095,  0.05307371,  0.04013997,\n",
       "       -0.02021751,  0.01427248, -0.03422907,  0.00672779,  0.00457217,\n",
       "        0.03043966,  0.0519959 ,  0.06169621, -0.00728377,  0.00564998,\n",
       "        0.05415152, -0.00836158,  0.114509  ,  0.06708527, -0.05578531,\n",
       "        0.03043966, -0.02560657,  0.10480869, -0.00620595, -0.04716281,\n",
       "       -0.04824063,  0.08540807, -0.01267283, -0.03315126, -0.00728377,\n",
       "       -0.01375064,  0.05954058,  0.02181716,  0.01858372, -0.01159501,\n",
       "       -0.00297252,  0.01750591, -0.02991782, -0.02021751, -0.05794093,\n",
       "        0.06061839, -0.04069594, -0.07195249, -0.05578531,  0.04552903,\n",
       "       -0.00943939, -0.03315126,  0.04984027, -0.08488624,  0.00564998,\n",
       "        0.02073935, -0.00728377,  0.10480869, -0.02452876, -0.00620595,\n",
       "       -0.03854032,  0.13714305,  0.17055523,  0.00241654,  0.03798434,\n",
       "       -0.05794093, -0.00943939, -0.02345095, -0.0105172 , -0.03422907,\n",
       "       -0.00297252,  0.06816308,  0.00996123,  0.00241654, -0.03854032,\n",
       "        0.02612841, -0.08919748,  0.06061839, -0.02884001, -0.02991782,\n",
       "       -0.0191397 , -0.04069594,  0.01535029, -0.02452876,  0.00133873,\n",
       "        0.06924089, -0.06979687, -0.02991782, -0.046085  ,  0.01858372,\n",
       "        0.00133873, -0.03099563, -0.00405033,  0.01535029,  0.02289497,\n",
       "        0.04552903, -0.04500719, -0.03315126,  0.097264  ,  0.05415152,\n",
       "        0.12313149, -0.08057499,  0.09295276, -0.05039625, -0.01159501,\n",
       "       -0.0277622 ,  0.05846277,  0.08540807, -0.00081689,  0.00672779,\n",
       "        0.00888341,  0.08001901,  0.07139652, -0.02452876, -0.0547075 ,\n",
       "       -0.03638469,  0.0164281 ,  0.07786339, -0.03961813,  0.01103904,\n",
       "       -0.04069594, -0.03422907,  0.00564998,  0.08864151, -0.03315126,\n",
       "       -0.05686312, -0.03099563,  0.05522933, -0.06009656,  0.00133873,\n",
       "       -0.02345095, -0.07410811,  0.01966154, -0.01590626, -0.01590626,\n",
       "        0.03906215, -0.0730303 ])"
      ]
     },
     "execution_count": 144,
     "metadata": {},
     "output_type": "execute_result"
    }
   ],
   "source": [
    "X_bmi"
   ]
  },
  {
   "cell_type": "code",
   "execution_count": 145,
   "metadata": {},
   "outputs": [
    {
     "data": {
      "text/plain": [
       "array([ 2.18723550e-02, -2.63278347e-02, -5.67061055e-03, -3.66564468e-02,\n",
       "        2.18723550e-02, -1.94420933e-02, -1.59992226e-02,  6.66296740e-02,\n",
       "       -4.00993175e-02, -3.32135761e-02,  8.10087222e-03, -3.32135761e-02,\n",
       "       -9.11348125e-03,  8.10087222e-03, -1.25563519e-02,  8.04011568e-02,\n",
       "        4.94153205e-02,  5.63010619e-02, -3.66564468e-02, -4.00993175e-02,\n",
       "       -4.35421882e-02,  1.21513083e-03, -9.11348125e-03,  3.10533436e-02,\n",
       "       -2.28849640e-02, -4.00993175e-02, -2.63278347e-02, -4.00993175e-02,\n",
       "       -7.45280244e-02,  6.31868033e-02, -1.94420933e-02, -8.14137658e-02,\n",
       "        2.87580964e-02, -2.22773986e-03, -5.73136710e-02, -4.92803060e-02,\n",
       "        5.28581912e-02, -5.73136710e-02,  9.76155103e-02, -7.45280244e-02,\n",
       "        2.18723550e-02, -1.08956731e-01, -1.48515991e-02, -7.10851537e-02,\n",
       "        8.10087222e-03,  3.22009671e-02, -3.32135761e-02, -5.73136710e-02,\n",
       "        1.15437429e-02, -5.67061055e-03,  1.49866136e-02,  2.87580964e-02,\n",
       "       -5.67061055e-03,  7.00725447e-02,  8.10087222e-03, -3.66564468e-02,\n",
       "       -2.63278347e-02, -5.04279296e-02,  3.56438378e-02,  1.15437429e-02,\n",
       "       -4.00993175e-02, -5.38708003e-02, -4.00993175e-02, -6.07565417e-02,\n",
       "       -4.00993175e-02,  5.97439326e-02, -3.32135761e-02, -1.71468462e-02,\n",
       "       -4.00993175e-02, -5.67061055e-03, -1.25563519e-02,  1.25158476e-01,\n",
       "       -1.25563519e-02, -2.22773986e-03,  5.63010619e-02, -2.63278347e-02,\n",
       "        7.00725447e-02, -7.45280244e-02, -2.28849640e-02, -2.63278347e-02,\n",
       "        4.25295792e-02, -2.97707054e-02, -2.63278347e-02, -4.69850589e-02,\n",
       "       -1.00923366e-01,  1.21513083e-03, -4.00993175e-02,  1.15437429e-02,\n",
       "       -6.76422830e-02, -1.94420933e-02, -4.00993175e-02, -5.38708003e-02,\n",
       "        9.76155103e-02, -1.02070990e-01, -1.25563519e-02, -8.14137658e-02,\n",
       "        4.94153205e-02, -2.51802112e-02, -1.25563519e-02,  1.15437429e-02,\n",
       "       -2.28849640e-02,  6.31868033e-02, -1.59992226e-02,  1.15437429e-02,\n",
       "       -2.22773986e-03, -4.00993175e-02, -4.35421882e-02, -5.50184238e-02,\n",
       "        2.99057198e-02,  2.36275439e-03, -2.28849640e-02, -2.63278347e-02,\n",
       "       -2.63278347e-02,  6.31868033e-02,  6.31868033e-02, -5.67061055e-03,\n",
       "        7.00725447e-02,  8.72868982e-02,  2.53152257e-02, -2.22773986e-03,\n",
       "        1.15437429e-02,  2.18723550e-02,  2.18723550e-02, -1.08011631e-03,\n",
       "        8.10087222e-03, -2.22773986e-03, -2.63278347e-02, -1.25563519e-02,\n",
       "       -2.63278347e-02,  4.65800153e-03,  1.04501252e-01, -6.76422830e-02,\n",
       "       -9.11348125e-03, -4.00993175e-02, -3.32135761e-02, -3.66564468e-02,\n",
       "       -5.73136710e-02,  9.76155103e-02,  7.69582861e-02,  5.28581912e-02,\n",
       "        4.25295792e-02, -4.69850589e-02,  3.90867085e-02, -9.11348125e-03,\n",
       "       -1.59992226e-02,  6.31868033e-02,  1.21513083e-03, -1.94420933e-02,\n",
       "       -1.94420933e-02, -4.69850589e-02,  2.53152257e-02, -5.67061055e-03,\n",
       "        7.00725447e-02,  6.31868033e-02, -5.67061055e-03,  4.94153205e-02,\n",
       "        1.21513083e-03, -1.82944698e-02, -6.99375302e-02,  8.72868982e-02,\n",
       "       -7.45280244e-02,  7.00725447e-02, -7.45280244e-02,  7.69582861e-02,\n",
       "        2.18723550e-02, -4.69850589e-02, -3.66564468e-02,  3.79390850e-02,\n",
       "       -2.22773986e-03,  4.94153205e-02, -3.66564468e-02, -9.86281193e-02,\n",
       "        8.10087222e-03, -5.67061055e-03, -4.35421882e-02, -2.63278347e-02,\n",
       "        3.90867085e-02, -2.51802112e-02, -2.63278347e-02, -1.25563519e-02,\n",
       "        3.56438378e-02, -5.38708003e-02,  5.63010619e-02,  6.31868033e-02,\n",
       "       -2.28849640e-02,  8.10087222e-03, -1.94420933e-02, -2.63278347e-02,\n",
       "        4.94153205e-02,  1.21513083e-03,  2.87580964e-02, -4.35421882e-02,\n",
       "        8.10087222e-03, -6.41994123e-02,  3.22009671e-02,  1.49866136e-02,\n",
       "       -3.32135761e-02,  7.00725447e-02, -2.63278347e-02,  3.44962143e-02,\n",
       "       -7.96585770e-03, -1.59992226e-02,  3.56438378e-02,  5.28581912e-02,\n",
       "        2.87580964e-02,  1.49866136e-02, -9.11348125e-03,  2.87580964e-02,\n",
       "        7.69582861e-02,  6.66296740e-02,  1.49866136e-02,  2.18723550e-02,\n",
       "        3.56438378e-02, -2.28849640e-02, -2.28849640e-02,  9.76155103e-02,\n",
       "        4.94153205e-02,  1.01058381e-01, -4.00993175e-02, -1.94420933e-02,\n",
       "       -5.67061055e-03, -2.63278347e-02,  4.25295792e-02, -6.41994123e-02,\n",
       "       -1.12399602e-01,  4.94153205e-02, -2.63278347e-02,  5.74486854e-02,\n",
       "       -6.07565417e-02, -2.97707054e-02, -5.73136710e-02,  2.18723550e-02,\n",
       "       -1.14087284e-02, -5.04279296e-02,  4.59724499e-02,  5.85963092e-02,\n",
       "        3.56438378e-02, -6.87899066e-02,  5.97439326e-02, -1.25563519e-02,\n",
       "        6.66296740e-02,  4.65800153e-03, -2.28849640e-02,  1.15437429e-02,\n",
       "       -1.94420933e-02, -2.97707054e-02, -6.19041652e-02, -4.00993175e-02,\n",
       "        5.97439326e-02,  5.28581912e-02,  7.35154154e-02,  8.72868982e-02,\n",
       "       -5.61660474e-02,  8.10087222e-03,  7.69582861e-02, -5.67061055e-03,\n",
       "       -4.69850589e-02,  2.53152257e-02, -4.23945646e-02,  4.25295792e-02,\n",
       "       -5.73136710e-02,  1.04501252e-01,  9.76155103e-02, -4.69850589e-02,\n",
       "       -3.32135761e-02, -1.71468462e-02,  1.15437429e-02, -8.48566365e-02,\n",
       "        7.00725447e-02, -2.63278347e-02,  8.38440275e-02,  4.25295792e-02,\n",
       "       -5.61660474e-02,  4.59724499e-02,  3.56438378e-02,  1.15437429e-02,\n",
       "        6.31868033e-02,  1.21513083e-03, -8.48566365e-02,  4.65800153e-03,\n",
       "        3.90867085e-02, -5.73136710e-02, -5.67061055e-03, -3.32135761e-02,\n",
       "        2.87580964e-02, -1.59992226e-02, -7.79708951e-02, -1.59992226e-02,\n",
       "        2.18723550e-02, -4.00993175e-02,  2.53152257e-02,  6.31868033e-02,\n",
       "       -3.20659526e-02,  1.26913665e-02, -5.67061055e-03, -4.00993175e-02,\n",
       "       -4.00993175e-02, -6.41994123e-02, -4.69850589e-02, -1.59992226e-02,\n",
       "       -4.12469410e-02,  5.28581912e-02,  3.33485905e-02,  9.41726396e-02,\n",
       "        5.28581912e-02, -4.00993175e-02,  2.18723550e-02,  4.65800153e-03,\n",
       "       -3.32135761e-02, -2.22773986e-03,  3.56438378e-02, -5.73136710e-02,\n",
       "       -5.67061055e-03,  5.28581912e-02, -1.25563519e-02, -5.38708003e-02,\n",
       "        1.21513083e-03,  5.51534385e-02,  2.53152257e-02,  4.59724499e-02,\n",
       "       -5.67061055e-03,  7.92535333e-02,  6.20391799e-02,  4.94153205e-02,\n",
       "        1.15437429e-02, -6.64946595e-02, -3.32135761e-02,  2.87580964e-02,\n",
       "       -6.07565417e-02, -2.22773986e-03,  4.25295792e-02, -3.66564468e-02,\n",
       "        7.69582861e-02,  2.87580964e-02, -2.28849640e-02, -1.25563519e-02,\n",
       "       -3.66564468e-02,  7.00725447e-02, -3.32135761e-02, -5.04279296e-02,\n",
       "        1.32044217e-01,  5.63010619e-02,  5.63010619e-02,  9.07297689e-02,\n",
       "       -4.00993175e-02, -3.32135761e-02,  3.22009671e-02, -7.45280244e-02,\n",
       "       -5.67061055e-03, -4.35421882e-02,  1.07944122e-01, -3.32135761e-02,\n",
       "       -4.69850589e-02, -3.66564468e-02,  2.18723550e-02,  1.49866136e-02,\n",
       "       -1.59992226e-02,  1.84294843e-02, -2.63278347e-02,  3.22009671e-02,\n",
       "        2.18723550e-02,  2.87580964e-02,  7.00725447e-02,  6.75072794e-05,\n",
       "       -1.94420933e-02, -1.25563519e-02, -1.59992226e-02,  1.49866136e-02,\n",
       "        1.49866136e-02, -4.00993175e-02, -5.73136710e-02,  4.94153205e-02,\n",
       "       -1.59992226e-02, -5.67061055e-03, -6.76422830e-02,  1.07944122e-01,\n",
       "       -5.67061055e-03,  1.84294843e-02, -5.67061055e-03,  2.18723550e-02,\n",
       "        5.85963092e-02, -7.45280244e-02, -2.28849640e-02, -9.11348125e-03,\n",
       "        4.65800153e-03,  4.94153205e-02, -1.59992226e-02, -7.45280244e-02,\n",
       "        5.63010619e-02, -8.48566365e-02,  5.97439326e-02, -6.41994123e-02,\n",
       "       -2.22773986e-03, -4.35421882e-02,  5.63010619e-02, -2.97707054e-02,\n",
       "       -2.28849640e-02, -3.09183290e-02, -3.32135761e-02,  4.94153205e-02,\n",
       "        9.07297689e-02, -5.73136710e-02, -2.28849640e-02, -5.67061055e-03,\n",
       "        7.00725447e-02,  8.38440275e-02, -8.48566365e-02, -5.27231767e-02,\n",
       "        1.07944122e-01,  5.63010619e-02,  8.10087222e-03, -4.35421882e-02,\n",
       "        6.31868033e-02, -2.63278347e-02, -4.52298700e-03, -5.04279296e-02,\n",
       "        9.87631337e-02, -7.45280244e-02, -2.63278347e-02, -5.38708003e-02,\n",
       "        6.75072794e-05,  2.18723550e-02,  5.28581912e-02,  2.87580964e-02,\n",
       "       -1.94420933e-02, -8.14137658e-02,  4.36772026e-02, -5.67061055e-03,\n",
       "        8.72868982e-02, -2.28849640e-02, -5.04279296e-02,  2.18723550e-02,\n",
       "       -5.67061055e-03, -2.97707054e-02,  8.10087222e-03, -4.00993175e-02,\n",
       "       -5.04279296e-02,  5.97439326e-02, -6.76422830e-02,  1.72818607e-02,\n",
       "        1.21513083e-03, -8.14137658e-02])"
      ]
     },
     "execution_count": 145,
     "metadata": {},
     "output_type": "execute_result"
    }
   ],
   "source": [
    "X_p"
   ]
  },
  {
   "cell_type": "code",
   "execution_count": 146,
   "metadata": {},
   "outputs": [],
   "source": [
    "import matplotlib.pyplot as plt\n",
    "import numpy as np"
   ]
  },
  {
   "cell_type": "code",
   "execution_count": 147,
   "metadata": {},
   "outputs": [
    {
     "data": {
      "text/plain": [
       "[<matplotlib.lines.Line2D at 0x1d0385fb2b0>]"
      ]
     },
     "execution_count": 147,
     "metadata": {},
     "output_type": "execute_result"
    },
    {
     "data": {
      "image/png": "[encoded data removed]",
      "text/plain": [
       "<Figure size 432x288 with 1 Axes>"
      ]
     },
     "metadata": {
      "needs_background": "light"
     },
     "output_type": "display_data"
    }
   ],
   "source": [
    "plt.plot(X_age,Y,'o',color='gray')"
   ]
  },
  {
   "cell_type": "code",
   "execution_count": 148,
   "metadata": {},
   "outputs": [
    {
     "data": {
      "text/plain": [
       "[<matplotlib.lines.Line2D at 0x1d0386409a0>]"
      ]
     },
     "execution_count": 148,
     "metadata": {},
     "output_type": "execute_result"
    },
    {
     "data": {
      "image/png": "[encoded data removed]",
      "text/plain": [
       "<Figure size 432x288 with 1 Axes>"
      ]
     },
     "metadata": {
      "needs_background": "light"
     },
     "output_type": "display_data"
    }
   ],
   "source": [
    "plt.plot(X_bmi,Y,'o',color='skyblue')"
   ]
  },
  {
   "cell_type": "code",
   "execution_count": 149,
   "metadata": {},
   "outputs": [
    {
     "data": {
      "text/plain": [
       "[<matplotlib.lines.Line2D at 0x1d038697670>]"
      ]
     },
     "execution_count": 149,
     "metadata": {},
     "output_type": "execute_result"
    },
    {
     "data": {
      "image/png": "[encoded data removed]",
      "text/plain": [
       "<Figure size 432x288 with 1 Axes>"
      ]
     },
     "metadata": {
      "needs_background": "light"
     },
     "output_type": "display_data"
    }
   ],
   "source": [
    "plt.plot(X_p,Y,'o',color='green')"
   ]
  },
  {
   "cell_type": "code",
   "execution_count": 150,
   "metadata": {},
   "outputs": [],
   "source": [
    "def f1(a,d1,Xi_age):\n",
    "    return a*Xi_age+d1\n",
    "\n",
    "def mse1(a,d1,Y):\n",
    "    Y_hat1=d1+(a*X_age)\n",
    "    return np.mean((Y_hat1-Y)**2)\n"
   ]
  },
  {
   "cell_type": "code",
   "execution_count": 151,
   "metadata": {},
   "outputs": [],
   "source": [
    "eps=0.00001\n",
    "n=0;\n",
    "a=0.1;d1=0\n",
    "\n",
    "while(n<100000):\n",
    "    if(mse1(a+eps,d1,Y)>mse1(a-eps,d1,Y)):\n",
    "        a=a-eps\n",
    "    else:\n",
    "        a=a+eps\n",
    "            \n",
    "    if(mse1(a,d1+eps,Y)>mse1(a,d1-eps,Y)):\n",
    "        d1=d1-eps\n",
    "    else:\n",
    "        d1=d1+eps\n",
    "        \n",
    "    n=n+1"
   ]
  },
  {
   "cell_type": "code",
   "execution_count": 152,
   "metadata": {},
   "outputs": [
    {
     "data": {
      "text/plain": [
       "(1.0999999999987449, 0.9999999999980838)"
      ]
     },
     "execution_count": 152,
     "metadata": {},
     "output_type": "execute_result"
    }
   ],
   "source": [
    "a,d1"
   ]
  },
  {
   "cell_type": "code",
   "execution_count": 123,
   "metadata": {},
   "outputs": [],
   "source": [
    "def f2(b,d2,Xi_bmi):\n",
    "    return b*Xi_bmi+d2\n",
    "\n",
    "def mse2(b,d2,Y):\n",
    "    Y_hat2=d2+(a*X_bmi)\n",
    "    return np.mean((Y_hat2-Y)**2)"
   ]
  },
  {
   "cell_type": "code",
   "execution_count": 124,
   "metadata": {},
   "outputs": [],
   "source": [
    "eps=0.00001\n",
    "n=0;\n",
    "b=1;d2=0\n",
    "\n",
    "while(n<100000):\n",
    "    if(mse2(b+eps,d2,Y)>mse1(b-eps,d2,Y)):\n",
    "        b=b-eps\n",
    "    else:\n",
    "        b=b+eps\n",
    "            \n",
    "    if(mse2(b,d2+eps,Y)>mse2(b,d2-eps,Y)):\n",
    "        d2=d2-eps\n",
    "    else:\n",
    "        d2=d2+eps\n",
    "        \n",
    "    n=n+1"
   ]
  },
  {
   "cell_type": "code",
   "execution_count": 125,
   "metadata": {},
   "outputs": [
    {
     "data": {
      "text/plain": [
       "(2.000000000006551, 0.9999999999980838)"
      ]
     },
     "execution_count": 125,
     "metadata": {},
     "output_type": "execute_result"
    }
   ],
   "source": [
    "b,d2"
   ]
  },
  {
   "cell_type": "code",
   "execution_count": 126,
   "metadata": {},
   "outputs": [],
   "source": [
    "def f3(c,d3,Xi_p):\n",
    "    return c*Xi_p+d3\n",
    "\n",
    "def mse3(c,d3,Y):\n",
    "    Y_hat3=d3+(c*X_p)\n",
    "    return np.mean((Y_hat3-Y)**2)"
   ]
  },
  {
   "cell_type": "code",
   "execution_count": 127,
   "metadata": {},
   "outputs": [],
   "source": [
    "eps=0.00001\n",
    "n=0;\n",
    "c=1;d3=0\n",
    "\n",
    "while(n<100000):\n",
    "    if(mse3(c+eps,d3,Y)>mse3(c-eps,d3,Y)):\n",
    "        c=c-eps\n",
    "    else:\n",
    "        c=c+eps\n",
    "            \n",
    "    if(mse3(c,d3+eps,Y)>mse3(c,d3-eps,Y)):\n",
    "        d3=d3-eps\n",
    "    else:\n",
    "        d3=d3+eps\n",
    "        \n",
    "    n=n+1"
   ]
  },
  {
   "cell_type": "code",
   "execution_count": 128,
   "metadata": {},
   "outputs": [
    {
     "data": {
      "text/plain": [
       "(2.000000000006551, 0.9999999999980838)"
      ]
     },
     "execution_count": 128,
     "metadata": {},
     "output_type": "execute_result"
    }
   ],
   "source": [
    "c,d3"
   ]
  },
  {
   "cell_type": "code",
   "execution_count": 129,
   "metadata": {},
   "outputs": [],
   "source": [
    "d=d1+d2+d3"
   ]
  },
  {
   "cell_type": "code",
   "execution_count": 130,
   "metadata": {},
   "outputs": [
    {
     "data": {
      "text/plain": [
       "(1.0999999999987449, 2.000000000006551, 2.000000000006551, 2.9999999999942513)"
      ]
     },
     "execution_count": 130,
     "metadata": {},
     "output_type": "execute_result"
    }
   ],
   "source": [
    "a,b,c,d"
   ]
  },
  {
   "cell_type": "code",
   "execution_count": null,
   "metadata": {},
   "outputs": [],
   "source": []
  }
 ],
 "metadata": {
  "kernelspec": {
   "display_name": "Python 3",
   "language": "python",
   "name": "python3"
  },
  "language_info": {
   "codemirror_mode": {
    "name": "ipython",
    "version": 3
   },
   "file_extension": ".py",
   "mimetype": "text/x-python",
   "name": "python",
   "nbconvert_exporter": "python",
   "pygments_lexer": "ipython3",
   "version": "3.8.5"
  }
 },
 "nbformat": 4,
 "nbformat_minor": 4
}
