{
 "cells": [
  {
   "cell_type": "markdown",
   "metadata": {},
   "source": [
    "# 1. Titanic (Regression)"
   ]
  },
  {
   "cell_type": "markdown",
   "metadata": {},
   "source": [
    "- https://www.kaggle.com/c/titanic/overview\n",
    "- 출력을 csv파일로 저장하여 함께 제출\n",
    "- submit predictions에 테스트해 볼 것!\n",
    "- 어떠한 알고리즘을 사용하여도 무방함"
   ]
  },
  {
   "cell_type": "code",
   "execution_count": 20,
   "metadata": {},
   "outputs": [],
   "source": [
    "import numpy as np \n",
    "import pandas as pd\n",
    "import matplotlib.pyplot as plt\n",
    "import random as rnd\n",
    "import seaborn as sns\n",
    "import warnings\n",
    "warnings.filterwarnings('ignore')"
   ]
  },
  {
   "cell_type": "code",
   "execution_count": 21,
   "metadata": {},
   "outputs": [],
   "source": [
    "train_data = pd.read_csv('../Titanic/train.csv')\n",
    "test = pd.read_csv('../Titanic/test.csv')\n",
    "#다운받은 train data와 test data 불러오기"
   ]
  },
  {
   "cell_type": "code",
   "execution_count": 22,
   "metadata": {
    "scrolled": true
   },
   "outputs": [
    {
     "data": {
      "text/html": [
       "<div>\n",
       "<style scoped>\n",
       "    .dataframe tbody tr th:only-of-type {\n",
       "        vertical-align: middle;\n",
       "    }\n",
       "\n",
       "    .dataframe tbody tr th {\n",
       "        vertical-align: top;\n",
       "    }\n",
       "\n",
       "    .dataframe thead th {\n",
       "        text-align: right;\n",
       "    }\n",
       "</style>\n",
       "<table border=\"1\" class=\"dataframe\">\n",
       "  <thead>\n",
       "    <tr style=\"text-align: right;\">\n",
       "      <th></th>\n",
       "      <th>PassengerId</th>\n",
       "      <th>Survived</th>\n",
       "      <th>Pclass</th>\n",
       "      <th>Name</th>\n",
       "      <th>Sex</th>\n",
       "      <th>Age</th>\n",
       "      <th>SibSp</th>\n",
       "      <th>Parch</th>\n",
       "      <th>Ticket</th>\n",
       "      <th>Fare</th>\n",
       "      <th>Cabin</th>\n",
       "      <th>Embarked</th>\n",
       "    </tr>\n",
       "  </thead>\n",
       "  <tbody>\n",
       "    <tr>\n",
       "      <th>0</th>\n",
       "      <td>1</td>\n",
       "      <td>0</td>\n",
       "      <td>3</td>\n",
       "      <td>Braund, Mr. Owen Harris</td>\n",
       "      <td>male</td>\n",
       "      <td>22.0</td>\n",
       "      <td>1</td>\n",
       "      <td>0</td>\n",
       "      <td>A/5 21171</td>\n",
       "      <td>7.2500</td>\n",
       "      <td>NaN</td>\n",
       "      <td>S</td>\n",
       "    </tr>\n",
       "    <tr>\n",
       "      <th>1</th>\n",
       "      <td>2</td>\n",
       "      <td>1</td>\n",
       "      <td>1</td>\n",
       "      <td>Cumings, Mrs. John Bradley (Florence Briggs Th...</td>\n",
       "      <td>female</td>\n",
       "      <td>38.0</td>\n",
       "      <td>1</td>\n",
       "      <td>0</td>\n",
       "      <td>PC 17599</td>\n",
       "      <td>71.2833</td>\n",
       "      <td>C85</td>\n",
       "      <td>C</td>\n",
       "    </tr>\n",
       "    <tr>\n",
       "      <th>2</th>\n",
       "      <td>3</td>\n",
       "      <td>1</td>\n",
       "      <td>3</td>\n",
       "      <td>Heikkinen, Miss. Laina</td>\n",
       "      <td>female</td>\n",
       "      <td>26.0</td>\n",
       "      <td>0</td>\n",
       "      <td>0</td>\n",
       "      <td>STON/O2. 3101282</td>\n",
       "      <td>7.9250</td>\n",
       "      <td>NaN</td>\n",
       "      <td>S</td>\n",
       "    </tr>\n",
       "    <tr>\n",
       "      <th>3</th>\n",
       "      <td>4</td>\n",
       "      <td>1</td>\n",
       "      <td>1</td>\n",
       "      <td>Futrelle, Mrs. Jacques Heath (Lily May Peel)</td>\n",
       "      <td>female</td>\n",
       "      <td>35.0</td>\n",
       "      <td>1</td>\n",
       "      <td>0</td>\n",
       "      <td>113803</td>\n",
       "      <td>53.1000</td>\n",
       "      <td>C123</td>\n",
       "      <td>S</td>\n",
       "    </tr>\n",
       "    <tr>\n",
       "      <th>4</th>\n",
       "      <td>5</td>\n",
       "      <td>0</td>\n",
       "      <td>3</td>\n",
       "      <td>Allen, Mr. William Henry</td>\n",
       "      <td>male</td>\n",
       "      <td>35.0</td>\n",
       "      <td>0</td>\n",
       "      <td>0</td>\n",
       "      <td>373450</td>\n",
       "      <td>8.0500</td>\n",
       "      <td>NaN</td>\n",
       "      <td>S</td>\n",
       "    </tr>\n",
       "  </tbody>\n",
       "</table>\n",
       "</div>"
      ],
      "text/plain": [
       "   PassengerId  Survived  Pclass  \\\n",
       "0            1         0       3   \n",
       "1            2         1       1   \n",
       "2            3         1       3   \n",
       "3            4         1       1   \n",
       "4            5         0       3   \n",
       "\n",
       "                                                Name     Sex   Age  SibSp  \\\n",
       "0                            Braund, Mr. Owen Harris    male  22.0      1   \n",
       "1  Cumings, Mrs. John Bradley (Florence Briggs Th...  female  38.0      1   \n",
       "2                             Heikkinen, Miss. Laina  female  26.0      0   \n",
       "3       Futrelle, Mrs. Jacques Heath (Lily May Peel)  female  35.0      1   \n",
       "4                           Allen, Mr. William Henry    male  35.0      0   \n",
       "\n",
       "   Parch            Ticket     Fare Cabin Embarked  \n",
       "0      0         A/5 21171   7.2500   NaN        S  \n",
       "1      0          PC 17599  71.2833   C85        C  \n",
       "2      0  STON/O2. 3101282   7.9250   NaN        S  \n",
       "3      0            113803  53.1000  C123        S  \n",
       "4      0            373450   8.0500   NaN        S  "
      ]
     },
     "execution_count": 22,
     "metadata": {},
     "output_type": "execute_result"
    }
   ],
   "source": [
    "train_data.head()\n",
    "#train data 확인"
   ]
  },
  {
   "cell_type": "code",
   "execution_count": 23,
   "metadata": {},
   "outputs": [
    {
     "data": {
      "text/html": [
       "<div>\n",
       "<style scoped>\n",
       "    .dataframe tbody tr th:only-of-type {\n",
       "        vertical-align: middle;\n",
       "    }\n",
       "\n",
       "    .dataframe tbody tr th {\n",
       "        vertical-align: top;\n",
       "    }\n",
       "\n",
       "    .dataframe thead th {\n",
       "        text-align: right;\n",
       "    }\n",
       "</style>\n",
       "<table border=\"1\" class=\"dataframe\">\n",
       "  <thead>\n",
       "    <tr style=\"text-align: right;\">\n",
       "      <th></th>\n",
       "      <th>PassengerId</th>\n",
       "      <th>Pclass</th>\n",
       "      <th>Name</th>\n",
       "      <th>Sex</th>\n",
       "      <th>Age</th>\n",
       "      <th>SibSp</th>\n",
       "      <th>Parch</th>\n",
       "      <th>Ticket</th>\n",
       "      <th>Fare</th>\n",
       "      <th>Cabin</th>\n",
       "      <th>Embarked</th>\n",
       "    </tr>\n",
       "  </thead>\n",
       "  <tbody>\n",
       "    <tr>\n",
       "      <th>0</th>\n",
       "      <td>892</td>\n",
       "      <td>3</td>\n",
       "      <td>Kelly, Mr. James</td>\n",
       "      <td>male</td>\n",
       "      <td>34.5</td>\n",
       "      <td>0</td>\n",
       "      <td>0</td>\n",
       "      <td>330911</td>\n",
       "      <td>7.8292</td>\n",
       "      <td>NaN</td>\n",
       "      <td>Q</td>\n",
       "    </tr>\n",
       "    <tr>\n",
       "      <th>1</th>\n",
       "      <td>893</td>\n",
       "      <td>3</td>\n",
       "      <td>Wilkes, Mrs. James (Ellen Needs)</td>\n",
       "      <td>female</td>\n",
       "      <td>47.0</td>\n",
       "      <td>1</td>\n",
       "      <td>0</td>\n",
       "      <td>363272</td>\n",
       "      <td>7.0000</td>\n",
       "      <td>NaN</td>\n",
       "      <td>S</td>\n",
       "    </tr>\n",
       "    <tr>\n",
       "      <th>2</th>\n",
       "      <td>894</td>\n",
       "      <td>2</td>\n",
       "      <td>Myles, Mr. Thomas Francis</td>\n",
       "      <td>male</td>\n",
       "      <td>62.0</td>\n",
       "      <td>0</td>\n",
       "      <td>0</td>\n",
       "      <td>240276</td>\n",
       "      <td>9.6875</td>\n",
       "      <td>NaN</td>\n",
       "      <td>Q</td>\n",
       "    </tr>\n",
       "    <tr>\n",
       "      <th>3</th>\n",
       "      <td>895</td>\n",
       "      <td>3</td>\n",
       "      <td>Wirz, Mr. Albert</td>\n",
       "      <td>male</td>\n",
       "      <td>27.0</td>\n",
       "      <td>0</td>\n",
       "      <td>0</td>\n",
       "      <td>315154</td>\n",
       "      <td>8.6625</td>\n",
       "      <td>NaN</td>\n",
       "      <td>S</td>\n",
       "    </tr>\n",
       "    <tr>\n",
       "      <th>4</th>\n",
       "      <td>896</td>\n",
       "      <td>3</td>\n",
       "      <td>Hirvonen, Mrs. Alexander (Helga E Lindqvist)</td>\n",
       "      <td>female</td>\n",
       "      <td>22.0</td>\n",
       "      <td>1</td>\n",
       "      <td>1</td>\n",
       "      <td>3101298</td>\n",
       "      <td>12.2875</td>\n",
       "      <td>NaN</td>\n",
       "      <td>S</td>\n",
       "    </tr>\n",
       "  </tbody>\n",
       "</table>\n",
       "</div>"
      ],
      "text/plain": [
       "   PassengerId  Pclass                                          Name     Sex  \\\n",
       "0          892       3                              Kelly, Mr. James    male   \n",
       "1          893       3              Wilkes, Mrs. James (Ellen Needs)  female   \n",
       "2          894       2                     Myles, Mr. Thomas Francis    male   \n",
       "3          895       3                              Wirz, Mr. Albert    male   \n",
       "4          896       3  Hirvonen, Mrs. Alexander (Helga E Lindqvist)  female   \n",
       "\n",
       "    Age  SibSp  Parch   Ticket     Fare Cabin Embarked  \n",
       "0  34.5      0      0   330911   7.8292   NaN        Q  \n",
       "1  47.0      1      0   363272   7.0000   NaN        S  \n",
       "2  62.0      0      0   240276   9.6875   NaN        Q  \n",
       "3  27.0      0      0   315154   8.6625   NaN        S  \n",
       "4  22.0      1      1  3101298  12.2875   NaN        S  "
      ]
     },
     "execution_count": 23,
     "metadata": {},
     "output_type": "execute_result"
    }
   ],
   "source": [
    "test.head()\n",
    "#test data 확인"
   ]
  },
  {
   "cell_type": "code",
   "execution_count": 24,
   "metadata": {},
   "outputs": [
    {
     "data": {
      "text/plain": [
       "Index(['PassengerId', 'Survived', 'Pclass', 'Name', 'Sex', 'Age', 'SibSp',\n",
       "       'Parch', 'Ticket', 'Fare', 'Cabin', 'Embarked'],\n",
       "      dtype='object')"
      ]
     },
     "execution_count": 24,
     "metadata": {},
     "output_type": "execute_result"
    }
   ],
   "source": [
    "train_data.columns #train data에서 정보를 나눈 범주 알아내기 "
   ]
  },
  {
   "cell_type": "code",
   "execution_count": 25,
   "metadata": {},
   "outputs": [
    {
     "data": {
      "text/plain": [
       "Index(['PassengerId', 'Pclass', 'Name', 'Sex', 'Age', 'SibSp', 'Parch',\n",
       "       'Ticket', 'Fare', 'Cabin', 'Embarked'],\n",
       "      dtype='object')"
      ]
     },
     "execution_count": 25,
     "metadata": {},
     "output_type": "execute_result"
    }
   ],
   "source": [
    "test.columns"
   ]
  },
  {
   "cell_type": "code",
   "execution_count": 26,
   "metadata": {},
   "outputs": [],
   "source": [
    "gender_data = pd.read_csv('../Titanic/gender_submission.csv')"
   ]
  },
  {
   "cell_type": "code",
   "execution_count": 27,
   "metadata": {},
   "outputs": [
    {
     "data": {
      "text/html": [
       "<div>\n",
       "<style scoped>\n",
       "    .dataframe tbody tr th:only-of-type {\n",
       "        vertical-align: middle;\n",
       "    }\n",
       "\n",
       "    .dataframe tbody tr th {\n",
       "        vertical-align: top;\n",
       "    }\n",
       "\n",
       "    .dataframe thead th {\n",
       "        text-align: right;\n",
       "    }\n",
       "</style>\n",
       "<table border=\"1\" class=\"dataframe\">\n",
       "  <thead>\n",
       "    <tr style=\"text-align: right;\">\n",
       "      <th></th>\n",
       "      <th>PassengerId</th>\n",
       "      <th>Survived</th>\n",
       "    </tr>\n",
       "  </thead>\n",
       "  <tbody>\n",
       "    <tr>\n",
       "      <th>0</th>\n",
       "      <td>892</td>\n",
       "      <td>0</td>\n",
       "    </tr>\n",
       "    <tr>\n",
       "      <th>1</th>\n",
       "      <td>893</td>\n",
       "      <td>1</td>\n",
       "    </tr>\n",
       "    <tr>\n",
       "      <th>2</th>\n",
       "      <td>894</td>\n",
       "      <td>0</td>\n",
       "    </tr>\n",
       "    <tr>\n",
       "      <th>3</th>\n",
       "      <td>895</td>\n",
       "      <td>0</td>\n",
       "    </tr>\n",
       "    <tr>\n",
       "      <th>4</th>\n",
       "      <td>896</td>\n",
       "      <td>1</td>\n",
       "    </tr>\n",
       "  </tbody>\n",
       "</table>\n",
       "</div>"
      ],
      "text/plain": [
       "   PassengerId  Survived\n",
       "0          892         0\n",
       "1          893         1\n",
       "2          894         0\n",
       "3          895         0\n",
       "4          896         1"
      ]
     },
     "execution_count": 27,
     "metadata": {},
     "output_type": "execute_result"
    }
   ],
   "source": [
    "gender_data.head()"
   ]
  },
  {
   "cell_type": "code",
   "execution_count": 28,
   "metadata": {},
   "outputs": [
    {
     "data": {
      "text/plain": [
       "Index(['PassengerId', 'Survived'], dtype='object')"
      ]
     },
     "execution_count": 28,
     "metadata": {},
     "output_type": "execute_result"
    }
   ],
   "source": [
    "gender_data.columns"
   ]
  },
  {
   "cell_type": "code",
   "execution_count": 29,
   "metadata": {},
   "outputs": [
    {
     "name": "stdout",
     "output_type": "stream",
     "text": [
      "Female survived : 0.7420382165605095\n"
     ]
    }
   ],
   "source": [
    "Female = train_data.loc[train_data.Sex == 'female',\"Survived\"] #train data 중에 여자면서 살아남은 사람을 Female로 두기\n",
    "percent_Female = sum(Female)/len(Female) # 살아있는 경우 1로 되어있으므로 더해진 수(살아있는 사람 수)를 여자인 모든 사람의 수로 나누면 생존률을 구할 수 있음\n",
    "print(\"Female survived :\", percent_Female)"
   ]
  },
  {
   "cell_type": "code",
   "execution_count": 30,
   "metadata": {},
   "outputs": [
    {
     "name": "stdout",
     "output_type": "stream",
     "text": [
      "Male survived : 0.18890814558058924\n"
     ]
    }
   ],
   "source": [
    "Male = train_data.loc[train_data.Sex == 'male',\"Survived\"] #train data 중에 여자면서 살아남은 사람을 male로 두기\n",
    "percent_Male = sum(Male)/len(Male) # 살아있는 경우 1로 되어있으므로 더해진 수(살아있는 사람 수)를 남자인 모든 사람의 수로 나누면 생존률을 구할 수 있음\n",
    "print(\"Male survived :\", percent_Male)"
   ]
  },
  {
   "cell_type": "markdown",
   "metadata": {},
   "source": [
    "따라서 남자보다는 여자가 더 많이 살아남았음을 알 수 있다.\n",
    "다음으로는 나이와 생존의 상관관계를 따져보자."
   ]
  },
  {
   "cell_type": "code",
   "execution_count": 31,
   "metadata": {},
   "outputs": [
    {
     "data": {
      "text/plain": [
       "(0.42, 80.0)"
      ]
     },
     "execution_count": 31,
     "metadata": {},
     "output_type": "execute_result"
    }
   ],
   "source": [
    "min(train_data.Age), max(train_data.Age)\n",
    "#최소 나이와 최대 나이를 알 수 있음"
   ]
  },
  {
   "cell_type": "code",
   "execution_count": 32,
   "metadata": {},
   "outputs": [],
   "source": [
    "# 위에서 구한 최소 나이와 최대 나이를 기준으로 train_data의 나이 정보들을 숫자로 바꿔주기\n",
    "train_data.loc[(train_data.Age > 0) & (train_data.Age <= 10), 'Age'] = 0\n",
    "train_data.loc[(train_data.Age > 10) & (train_data.Age <= 20), 'Age'] = 1\n",
    "train_data.loc[(train_data.Age > 20) & (train_data.Age <= 30), 'Age'] = 2\n",
    "train_data.loc[(train_data.Age > 30) & (train_data.Age <= 40), 'Age'] = 3\n",
    "train_data.loc[(train_data.Age > 40) & (train_data.Age <= 50), 'Age'] = 4\n",
    "train_data.loc[(train_data.Age > 50) & (train_data.Age <= 60), 'Age'] = 5\n",
    "train_data.loc[(train_data.Age > 60) & (train_data.Age <= 70), 'Age'] = 6\n",
    "train_data.loc[(train_data.Age > 70) & (train_data.Age <= 80), 'Age'] = 7"
   ]
  },
  {
   "cell_type": "code",
   "execution_count": 33,
   "metadata": {},
   "outputs": [],
   "source": [
    "# 위에서 구한 최소 나이와 최대 나이를 기준으로 test의 나이 정보들을 숫자로 바꿔주기\n",
    "test.loc[(test.Age > 0) & (test.Age <= 10), 'Age'] = 0\n",
    "test.loc[(test.Age > 10) & (test.Age <= 20), 'Age'] = 1\n",
    "test.loc[(test.Age > 20) & (test.Age <= 30), 'Age'] = 2\n",
    "test.loc[(test.Age > 30) & (test.Age <= 40), 'Age'] = 3\n",
    "test.loc[(test.Age > 40) & (test.Age <= 50), 'Age'] = 4\n",
    "test.loc[(test.Age > 50) & (test.Age <= 60), 'Age'] = 5\n",
    "test.loc[(test.Age > 60) & (test.Age <= 70), 'Age'] = 6\n",
    "test.loc[(test.Age > 70) & (test.Age <= 80), 'Age'] = 7"
   ]
  },
  {
   "cell_type": "code",
   "execution_count": 34,
   "metadata": {},
   "outputs": [
    {
     "data": {
      "text/plain": [
       "(0      2.0\n",
       " 1      3.0\n",
       " 2      2.0\n",
       " 3      3.0\n",
       " 4      3.0\n",
       "       ... \n",
       " 886    2.0\n",
       " 887    1.0\n",
       " 888    NaN\n",
       " 889    2.0\n",
       " 890    3.0\n",
       " Name: Age, Length: 891, dtype: float64,\n",
       " 0      3.0\n",
       " 1      4.0\n",
       " 2      6.0\n",
       " 3      2.0\n",
       " 4      2.0\n",
       "       ... \n",
       " 413    NaN\n",
       " 414    3.0\n",
       " 415    3.0\n",
       " 416    NaN\n",
       " 417    NaN\n",
       " Name: Age, Length: 418, dtype: float64)"
      ]
     },
     "execution_count": 34,
     "metadata": {},
     "output_type": "execute_result"
    }
   ],
   "source": [
    "train_data.Age, test.Age"
   ]
  },
  {
   "cell_type": "code",
   "execution_count": 37,
   "metadata": {},
   "outputs": [
    {
     "data": {
      "text/plain": [
       "PassengerId      0\n",
       "Survived         0\n",
       "Pclass           0\n",
       "Name             0\n",
       "Sex              0\n",
       "Age            177\n",
       "SibSp            0\n",
       "Parch            0\n",
       "Ticket           0\n",
       "Fare             0\n",
       "Cabin          687\n",
       "Embarked         2\n",
       "dtype: int64"
      ]
     },
     "execution_count": 37,
     "metadata": {},
     "output_type": "execute_result"
    }
   ],
   "source": [
    "train_data.isnull().sum() #위에서 나이 데이터에 정보가 없는 부분이 있음을 확인했으므로 train_data에서 정보가 없는 것이 몇개인지 개수를 알아보기 위함"
   ]
  },
  {
   "cell_type": "code",
   "execution_count": 38,
   "metadata": {},
   "outputs": [
    {
     "data": {
      "text/plain": [
       "PassengerId      0\n",
       "Pclass           0\n",
       "Name             0\n",
       "Sex              0\n",
       "Age             86\n",
       "SibSp            0\n",
       "Parch            0\n",
       "Ticket           0\n",
       "Fare             1\n",
       "Cabin          327\n",
       "Embarked         0\n",
       "dtype: int64"
      ]
     },
     "execution_count": 38,
     "metadata": {},
     "output_type": "execute_result"
    }
   ],
   "source": [
    "test.isnull().sum() #위에서 나이 데이터에 정보가 없는 부분이 있음을 확인했으므로 test에서 정보가 없는 것이 몇개인지 개수를 알아보기 위함"
   ]
  },
  {
   "cell_type": "code",
   "execution_count": 39,
   "metadata": {},
   "outputs": [
    {
     "data": {
      "text/html": [
       "<style  type=\"text/css\" >\n",
       "#T_9d6d0d7e_61ab_11ec_9338_f51456375b73row0_col0,#T_9d6d0d7e_61ab_11ec_9338_f51456375b73row1_col1,#T_9d6d0d7e_61ab_11ec_9338_f51456375b73row1_col2{\n",
       "            background-color:  #ffff66;\n",
       "            color:  #000000;\n",
       "        }#T_9d6d0d7e_61ab_11ec_9338_f51456375b73row0_col1{\n",
       "            background-color:  #cee666;\n",
       "            color:  #000000;\n",
       "        }#T_9d6d0d7e_61ab_11ec_9338_f51456375b73row0_col2{\n",
       "            background-color:  #f4fa66;\n",
       "            color:  #000000;\n",
       "        }#T_9d6d0d7e_61ab_11ec_9338_f51456375b73row1_col0{\n",
       "            background-color:  #f6fa66;\n",
       "            color:  #000000;\n",
       "        }#T_9d6d0d7e_61ab_11ec_9338_f51456375b73row2_col0{\n",
       "            background-color:  #60b066;\n",
       "            color:  #000000;\n",
       "        }#T_9d6d0d7e_61ab_11ec_9338_f51456375b73row2_col1{\n",
       "            background-color:  #dfef66;\n",
       "            color:  #000000;\n",
       "        }#T_9d6d0d7e_61ab_11ec_9338_f51456375b73row2_col2{\n",
       "            background-color:  #90c866;\n",
       "            color:  #000000;\n",
       "        }#T_9d6d0d7e_61ab_11ec_9338_f51456375b73row3_col0,#T_9d6d0d7e_61ab_11ec_9338_f51456375b73row3_col1,#T_9d6d0d7e_61ab_11ec_9338_f51456375b73row3_col2{\n",
       "            background-color:  #008066;\n",
       "            color:  #f1f1f1;\n",
       "        }</style><table id=\"T_9d6d0d7e_61ab_11ec_9338_f51456375b73\" ><thead>    <tr>        <th class=\"index_name level0\" >Survived</th>        <th class=\"col_heading level0 col0\" >0</th>        <th class=\"col_heading level0 col1\" >1</th>        <th class=\"col_heading level0 col2\" >All</th>    </tr>    <tr>        <th class=\"index_name level0\" >Pclass</th>        <th class=\"blank\" ></th>        <th class=\"blank\" ></th>        <th class=\"blank\" ></th>    </tr></thead><tbody>\n",
       "                <tr>\n",
       "                        <th id=\"T_9d6d0d7e_61ab_11ec_9338_f51456375b73level0_row0\" class=\"row_heading level0 row0\" >1</th>\n",
       "                        <td id=\"T_9d6d0d7e_61ab_11ec_9338_f51456375b73row0_col0\" class=\"data row0 col0\" >80</td>\n",
       "                        <td id=\"T_9d6d0d7e_61ab_11ec_9338_f51456375b73row0_col1\" class=\"data row0 col1\" >136</td>\n",
       "                        <td id=\"T_9d6d0d7e_61ab_11ec_9338_f51456375b73row0_col2\" class=\"data row0 col2\" >216</td>\n",
       "            </tr>\n",
       "            <tr>\n",
       "                        <th id=\"T_9d6d0d7e_61ab_11ec_9338_f51456375b73level0_row1\" class=\"row_heading level0 row1\" >2</th>\n",
       "                        <td id=\"T_9d6d0d7e_61ab_11ec_9338_f51456375b73row1_col0\" class=\"data row1 col0\" >97</td>\n",
       "                        <td id=\"T_9d6d0d7e_61ab_11ec_9338_f51456375b73row1_col1\" class=\"data row1 col1\" >87</td>\n",
       "                        <td id=\"T_9d6d0d7e_61ab_11ec_9338_f51456375b73row1_col2\" class=\"data row1 col2\" >184</td>\n",
       "            </tr>\n",
       "            <tr>\n",
       "                        <th id=\"T_9d6d0d7e_61ab_11ec_9338_f51456375b73level0_row2\" class=\"row_heading level0 row2\" >3</th>\n",
       "                        <td id=\"T_9d6d0d7e_61ab_11ec_9338_f51456375b73row2_col0\" class=\"data row2 col0\" >372</td>\n",
       "                        <td id=\"T_9d6d0d7e_61ab_11ec_9338_f51456375b73row2_col1\" class=\"data row2 col1\" >119</td>\n",
       "                        <td id=\"T_9d6d0d7e_61ab_11ec_9338_f51456375b73row2_col2\" class=\"data row2 col2\" >491</td>\n",
       "            </tr>\n",
       "            <tr>\n",
       "                        <th id=\"T_9d6d0d7e_61ab_11ec_9338_f51456375b73level0_row3\" class=\"row_heading level0 row3\" >All</th>\n",
       "                        <td id=\"T_9d6d0d7e_61ab_11ec_9338_f51456375b73row3_col0\" class=\"data row3 col0\" >549</td>\n",
       "                        <td id=\"T_9d6d0d7e_61ab_11ec_9338_f51456375b73row3_col1\" class=\"data row3 col1\" >342</td>\n",
       "                        <td id=\"T_9d6d0d7e_61ab_11ec_9338_f51456375b73row3_col2\" class=\"data row3 col2\" >891</td>\n",
       "            </tr>\n",
       "    </tbody></table>"
      ],
      "text/plain": [
       "<pandas.io.formats.style.Styler at 0x279af8954f0>"
      ]
     },
     "execution_count": 39,
     "metadata": {},
     "output_type": "execute_result"
    }
   ],
   "source": [
    "pd.crosstab(train_data.Pclass, train_data.Survived, margins = True).style.background_gradient(cmap = 'summer_r')"
   ]
  },
  {
   "cell_type": "markdown",
   "metadata": {},
   "source": [
    "위 표를 보면 3등급의 사람들이 대략적으로 더 많이 사망한 것을 알 수 있음"
   ]
  },
  {
   "cell_type": "code",
   "execution_count": 40,
   "metadata": {},
   "outputs": [
    {
     "data": {
      "text/html": [
       "<style  type=\"text/css\" >\n",
       "#T_a095d46b_61ab_11ec_bc6d_f51456375b73row0_col0,#T_a095d46b_61ab_11ec_bc6d_f51456375b73row0_col1,#T_a095d46b_61ab_11ec_bc6d_f51456375b73row0_col3,#T_a095d46b_61ab_11ec_bc6d_f51456375b73row3_col2{\n",
       "            background-color:  #ffff66;\n",
       "            color:  #000000;\n",
       "        }#T_a095d46b_61ab_11ec_bc6d_f51456375b73row0_col2,#T_a095d46b_61ab_11ec_bc6d_f51456375b73row1_col2{\n",
       "            background-color:  #f1f866;\n",
       "            color:  #000000;\n",
       "        }#T_a095d46b_61ab_11ec_bc6d_f51456375b73row1_col0{\n",
       "            background-color:  #96cb66;\n",
       "            color:  #000000;\n",
       "        }#T_a095d46b_61ab_11ec_bc6d_f51456375b73row1_col1{\n",
       "            background-color:  #a3d166;\n",
       "            color:  #000000;\n",
       "        }#T_a095d46b_61ab_11ec_bc6d_f51456375b73row1_col3{\n",
       "            background-color:  #cfe766;\n",
       "            color:  #000000;\n",
       "        }#T_a095d46b_61ab_11ec_bc6d_f51456375b73row2_col0{\n",
       "            background-color:  #a7d366;\n",
       "            color:  #000000;\n",
       "        }#T_a095d46b_61ab_11ec_bc6d_f51456375b73row2_col1,#T_a095d46b_61ab_11ec_bc6d_f51456375b73row2_col3{\n",
       "            background-color:  #85c266;\n",
       "            color:  #000000;\n",
       "        }#T_a095d46b_61ab_11ec_bc6d_f51456375b73row2_col2{\n",
       "            background-color:  #6eb666;\n",
       "            color:  #000000;\n",
       "        }#T_a095d46b_61ab_11ec_bc6d_f51456375b73row3_col0{\n",
       "            background-color:  #cde666;\n",
       "            color:  #000000;\n",
       "        }#T_a095d46b_61ab_11ec_bc6d_f51456375b73row3_col1{\n",
       "            background-color:  #f0f866;\n",
       "            color:  #000000;\n",
       "        }#T_a095d46b_61ab_11ec_bc6d_f51456375b73row3_col3{\n",
       "            background-color:  #f7fb66;\n",
       "            color:  #000000;\n",
       "        }#T_a095d46b_61ab_11ec_bc6d_f51456375b73row4_col0,#T_a095d46b_61ab_11ec_bc6d_f51456375b73row4_col1,#T_a095d46b_61ab_11ec_bc6d_f51456375b73row4_col2,#T_a095d46b_61ab_11ec_bc6d_f51456375b73row4_col3{\n",
       "            background-color:  #008066;\n",
       "            color:  #f1f1f1;\n",
       "        }</style><table id=\"T_a095d46b_61ab_11ec_bc6d_f51456375b73\" ><thead>    <tr>        <th class=\"blank\" ></th>        <th class=\"index_name level0\" >Pclass</th>        <th class=\"col_heading level0 col0\" >1</th>        <th class=\"col_heading level0 col1\" >2</th>        <th class=\"col_heading level0 col2\" >3</th>        <th class=\"col_heading level0 col3\" >All</th>    </tr>    <tr>        <th class=\"index_name level0\" >Sex</th>        <th class=\"index_name level1\" >Survived</th>        <th class=\"blank\" ></th>        <th class=\"blank\" ></th>        <th class=\"blank\" ></th>        <th class=\"blank\" ></th>    </tr></thead><tbody>\n",
       "                <tr>\n",
       "                        <th id=\"T_a095d46b_61ab_11ec_bc6d_f51456375b73level0_row0\" class=\"row_heading level0 row0\" rowspan=2>female</th>\n",
       "                        <th id=\"T_a095d46b_61ab_11ec_bc6d_f51456375b73level1_row0\" class=\"row_heading level1 row0\" >0</th>\n",
       "                        <td id=\"T_a095d46b_61ab_11ec_bc6d_f51456375b73row0_col0\" class=\"data row0 col0\" >3</td>\n",
       "                        <td id=\"T_a095d46b_61ab_11ec_bc6d_f51456375b73row0_col1\" class=\"data row0 col1\" >6</td>\n",
       "                        <td id=\"T_a095d46b_61ab_11ec_bc6d_f51456375b73row0_col2\" class=\"data row0 col2\" >72</td>\n",
       "                        <td id=\"T_a095d46b_61ab_11ec_bc6d_f51456375b73row0_col3\" class=\"data row0 col3\" >81</td>\n",
       "            </tr>\n",
       "            <tr>\n",
       "                                <th id=\"T_a095d46b_61ab_11ec_bc6d_f51456375b73level1_row1\" class=\"row_heading level1 row1\" >1</th>\n",
       "                        <td id=\"T_a095d46b_61ab_11ec_bc6d_f51456375b73row1_col0\" class=\"data row1 col0\" >91</td>\n",
       "                        <td id=\"T_a095d46b_61ab_11ec_bc6d_f51456375b73row1_col1\" class=\"data row1 col1\" >70</td>\n",
       "                        <td id=\"T_a095d46b_61ab_11ec_bc6d_f51456375b73row1_col2\" class=\"data row1 col2\" >72</td>\n",
       "                        <td id=\"T_a095d46b_61ab_11ec_bc6d_f51456375b73row1_col3\" class=\"data row1 col3\" >233</td>\n",
       "            </tr>\n",
       "            <tr>\n",
       "                        <th id=\"T_a095d46b_61ab_11ec_bc6d_f51456375b73level0_row2\" class=\"row_heading level0 row2\" rowspan=2>male</th>\n",
       "                        <th id=\"T_a095d46b_61ab_11ec_bc6d_f51456375b73level1_row2\" class=\"row_heading level1 row2\" >0</th>\n",
       "                        <td id=\"T_a095d46b_61ab_11ec_bc6d_f51456375b73row2_col0\" class=\"data row2 col0\" >77</td>\n",
       "                        <td id=\"T_a095d46b_61ab_11ec_bc6d_f51456375b73row2_col1\" class=\"data row2 col1\" >91</td>\n",
       "                        <td id=\"T_a095d46b_61ab_11ec_bc6d_f51456375b73row2_col2\" class=\"data row2 col2\" >300</td>\n",
       "                        <td id=\"T_a095d46b_61ab_11ec_bc6d_f51456375b73row2_col3\" class=\"data row2 col3\" >468</td>\n",
       "            </tr>\n",
       "            <tr>\n",
       "                                <th id=\"T_a095d46b_61ab_11ec_bc6d_f51456375b73level1_row3\" class=\"row_heading level1 row3\" >1</th>\n",
       "                        <td id=\"T_a095d46b_61ab_11ec_bc6d_f51456375b73row3_col0\" class=\"data row3 col0\" >45</td>\n",
       "                        <td id=\"T_a095d46b_61ab_11ec_bc6d_f51456375b73row3_col1\" class=\"data row3 col1\" >17</td>\n",
       "                        <td id=\"T_a095d46b_61ab_11ec_bc6d_f51456375b73row3_col2\" class=\"data row3 col2\" >47</td>\n",
       "                        <td id=\"T_a095d46b_61ab_11ec_bc6d_f51456375b73row3_col3\" class=\"data row3 col3\" >109</td>\n",
       "            </tr>\n",
       "            <tr>\n",
       "                        <th id=\"T_a095d46b_61ab_11ec_bc6d_f51456375b73level0_row4\" class=\"row_heading level0 row4\" >All</th>\n",
       "                        <th id=\"T_a095d46b_61ab_11ec_bc6d_f51456375b73level1_row4\" class=\"row_heading level1 row4\" ></th>\n",
       "                        <td id=\"T_a095d46b_61ab_11ec_bc6d_f51456375b73row4_col0\" class=\"data row4 col0\" >216</td>\n",
       "                        <td id=\"T_a095d46b_61ab_11ec_bc6d_f51456375b73row4_col1\" class=\"data row4 col1\" >184</td>\n",
       "                        <td id=\"T_a095d46b_61ab_11ec_bc6d_f51456375b73row4_col2\" class=\"data row4 col2\" >491</td>\n",
       "                        <td id=\"T_a095d46b_61ab_11ec_bc6d_f51456375b73row4_col3\" class=\"data row4 col3\" >891</td>\n",
       "            </tr>\n",
       "    </tbody></table>"
      ],
      "text/plain": [
       "<pandas.io.formats.style.Styler at 0x279b2193970>"
      ]
     },
     "execution_count": 40,
     "metadata": {},
     "output_type": "execute_result"
    }
   ],
   "source": [
    "pd.crosstab([train_data.Sex, train_data.Survived], train_data.Pclass, margins = True).style.background_gradient(cmap = 'summer_r')"
   ]
  },
  {
   "cell_type": "markdown",
   "metadata": {},
   "source": [
    "남녀 모두 높은 클래스일수록 생존확률이 증가했음을 알 수 있음"
   ]
  },
  {
   "cell_type": "code",
   "execution_count": 45,
   "metadata": {},
   "outputs": [
    {
     "data": {
      "text/plain": [
       "array(['Mr', 'Mrs', 'Miss', 'Master', 'Don', 'Rev', 'Dr', 'Mme', 'Ms',\n",
       "       'Major', 'Lady', 'Sir', 'Mlle', 'Col', 'Capt', 'Countess',\n",
       "       'Jonkheer'], dtype=object)"
      ]
     },
     "execution_count": 45,
     "metadata": {},
     "output_type": "execute_result"
    }
   ],
   "source": [
    "train_data[\"initial\"]=0\n",
    "for i in train_data:\n",
    "    train_data[\"initial\"] = train_data.Name.str.extract('([A-Za-z]+)\\.')\n",
    "train_data[\"initial\"].unique()\n",
    "#train_data에서 사람들의 이름의 종류 뽑아내기"
   ]
  },
  {
   "cell_type": "code",
   "execution_count": 46,
   "metadata": {},
   "outputs": [
    {
     "data": {
      "text/plain": [
       "array(['Mr', 'Mrs', 'Miss', 'Master', 'Ms', 'Col', 'Rev', 'Dr', 'Dona'],\n",
       "      dtype=object)"
      ]
     },
     "execution_count": 46,
     "metadata": {},
     "output_type": "execute_result"
    }
   ],
   "source": [
    "test[\"initial\"]=0\n",
    "for i in test:\n",
    "    test[\"initial\"] = test.Name.str.extract('([A-Za-z]+)\\.')\n",
    "test[\"initial\"].unique()\n",
    "#test에서 사람들의 이름의 종류 뽑아내기"
   ]
  },
  {
   "cell_type": "code",
   "execution_count": 47,
   "metadata": {},
   "outputs": [
    {
     "data": {
      "text/html": [
       "<style  type=\"text/css\" >\n",
       "#T_d60f34c5_61ab_11ec_9175_f51456375b73row0_col0,#T_d60f34c5_61ab_11ec_9175_f51456375b73row0_col1,#T_d60f34c5_61ab_11ec_9175_f51456375b73row1_col0,#T_d60f34c5_61ab_11ec_9175_f51456375b73row1_col1,#T_d60f34c5_61ab_11ec_9175_f51456375b73row2_col1,#T_d60f34c5_61ab_11ec_9175_f51456375b73row3_col0,#T_d60f34c5_61ab_11ec_9175_f51456375b73row3_col1,#T_d60f34c5_61ab_11ec_9175_f51456375b73row5_col0,#T_d60f34c5_61ab_11ec_9175_f51456375b73row5_col1,#T_d60f34c5_61ab_11ec_9175_f51456375b73row6_col1,#T_d60f34c5_61ab_11ec_9175_f51456375b73row7_col0,#T_d60f34c5_61ab_11ec_9175_f51456375b73row7_col1,#T_d60f34c5_61ab_11ec_9175_f51456375b73row8_col0,#T_d60f34c5_61ab_11ec_9175_f51456375b73row9_col1,#T_d60f34c5_61ab_11ec_9175_f51456375b73row10_col1,#T_d60f34c5_61ab_11ec_9175_f51456375b73row11_col1,#T_d60f34c5_61ab_11ec_9175_f51456375b73row12_col0,#T_d60f34c5_61ab_11ec_9175_f51456375b73row13_col1,#T_d60f34c5_61ab_11ec_9175_f51456375b73row14_col1,#T_d60f34c5_61ab_11ec_9175_f51456375b73row15_col0,#T_d60f34c5_61ab_11ec_9175_f51456375b73row16_col0,#T_d60f34c5_61ab_11ec_9175_f51456375b73row16_col1{\n",
       "            background-color:  #ffff66;\n",
       "            color:  #000000;\n",
       "        }#T_d60f34c5_61ab_11ec_9175_f51456375b73row2_col0,#T_d60f34c5_61ab_11ec_9175_f51456375b73row4_col0,#T_d60f34c5_61ab_11ec_9175_f51456375b73row6_col0,#T_d60f34c5_61ab_11ec_9175_f51456375b73row11_col0,#T_d60f34c5_61ab_11ec_9175_f51456375b73row14_col0{\n",
       "            background-color:  #fefe66;\n",
       "            color:  #000000;\n",
       "        }#T_d60f34c5_61ab_11ec_9175_f51456375b73row4_col1,#T_d60f34c5_61ab_11ec_9175_f51456375b73row10_col0,#T_d60f34c5_61ab_11ec_9175_f51456375b73row15_col1{\n",
       "            background-color:  #fdfe66;\n",
       "            color:  #000000;\n",
       "        }#T_d60f34c5_61ab_11ec_9175_f51456375b73row8_col1{\n",
       "            background-color:  #ecf666;\n",
       "            color:  #000000;\n",
       "        }#T_d60f34c5_61ab_11ec_9175_f51456375b73row9_col0,#T_d60f34c5_61ab_11ec_9175_f51456375b73row12_col1{\n",
       "            background-color:  #008066;\n",
       "            color:  #f1f1f1;\n",
       "        }#T_d60f34c5_61ab_11ec_9175_f51456375b73row13_col0{\n",
       "            background-color:  #50a866;\n",
       "            color:  #000000;\n",
       "        }</style><table id=\"T_d60f34c5_61ab_11ec_9175_f51456375b73\" ><thead>    <tr>        <th class=\"index_name level0\" >Sex</th>        <th class=\"col_heading level0 col0\" >female</th>        <th class=\"col_heading level0 col1\" >male</th>    </tr>    <tr>        <th class=\"index_name level0\" >initial</th>        <th class=\"blank\" ></th>        <th class=\"blank\" ></th>    </tr></thead><tbody>\n",
       "                <tr>\n",
       "                        <th id=\"T_d60f34c5_61ab_11ec_9175_f51456375b73level0_row0\" class=\"row_heading level0 row0\" >Capt</th>\n",
       "                        <td id=\"T_d60f34c5_61ab_11ec_9175_f51456375b73row0_col0\" class=\"data row0 col0\" >0</td>\n",
       "                        <td id=\"T_d60f34c5_61ab_11ec_9175_f51456375b73row0_col1\" class=\"data row0 col1\" >1</td>\n",
       "            </tr>\n",
       "            <tr>\n",
       "                        <th id=\"T_d60f34c5_61ab_11ec_9175_f51456375b73level0_row1\" class=\"row_heading level0 row1\" >Col</th>\n",
       "                        <td id=\"T_d60f34c5_61ab_11ec_9175_f51456375b73row1_col0\" class=\"data row1 col0\" >0</td>\n",
       "                        <td id=\"T_d60f34c5_61ab_11ec_9175_f51456375b73row1_col1\" class=\"data row1 col1\" >2</td>\n",
       "            </tr>\n",
       "            <tr>\n",
       "                        <th id=\"T_d60f34c5_61ab_11ec_9175_f51456375b73level0_row2\" class=\"row_heading level0 row2\" >Countess</th>\n",
       "                        <td id=\"T_d60f34c5_61ab_11ec_9175_f51456375b73row2_col0\" class=\"data row2 col0\" >1</td>\n",
       "                        <td id=\"T_d60f34c5_61ab_11ec_9175_f51456375b73row2_col1\" class=\"data row2 col1\" >0</td>\n",
       "            </tr>\n",
       "            <tr>\n",
       "                        <th id=\"T_d60f34c5_61ab_11ec_9175_f51456375b73level0_row3\" class=\"row_heading level0 row3\" >Don</th>\n",
       "                        <td id=\"T_d60f34c5_61ab_11ec_9175_f51456375b73row3_col0\" class=\"data row3 col0\" >0</td>\n",
       "                        <td id=\"T_d60f34c5_61ab_11ec_9175_f51456375b73row3_col1\" class=\"data row3 col1\" >1</td>\n",
       "            </tr>\n",
       "            <tr>\n",
       "                        <th id=\"T_d60f34c5_61ab_11ec_9175_f51456375b73level0_row4\" class=\"row_heading level0 row4\" >Dr</th>\n",
       "                        <td id=\"T_d60f34c5_61ab_11ec_9175_f51456375b73row4_col0\" class=\"data row4 col0\" >1</td>\n",
       "                        <td id=\"T_d60f34c5_61ab_11ec_9175_f51456375b73row4_col1\" class=\"data row4 col1\" >6</td>\n",
       "            </tr>\n",
       "            <tr>\n",
       "                        <th id=\"T_d60f34c5_61ab_11ec_9175_f51456375b73level0_row5\" class=\"row_heading level0 row5\" >Jonkheer</th>\n",
       "                        <td id=\"T_d60f34c5_61ab_11ec_9175_f51456375b73row5_col0\" class=\"data row5 col0\" >0</td>\n",
       "                        <td id=\"T_d60f34c5_61ab_11ec_9175_f51456375b73row5_col1\" class=\"data row5 col1\" >1</td>\n",
       "            </tr>\n",
       "            <tr>\n",
       "                        <th id=\"T_d60f34c5_61ab_11ec_9175_f51456375b73level0_row6\" class=\"row_heading level0 row6\" >Lady</th>\n",
       "                        <td id=\"T_d60f34c5_61ab_11ec_9175_f51456375b73row6_col0\" class=\"data row6 col0\" >1</td>\n",
       "                        <td id=\"T_d60f34c5_61ab_11ec_9175_f51456375b73row6_col1\" class=\"data row6 col1\" >0</td>\n",
       "            </tr>\n",
       "            <tr>\n",
       "                        <th id=\"T_d60f34c5_61ab_11ec_9175_f51456375b73level0_row7\" class=\"row_heading level0 row7\" >Major</th>\n",
       "                        <td id=\"T_d60f34c5_61ab_11ec_9175_f51456375b73row7_col0\" class=\"data row7 col0\" >0</td>\n",
       "                        <td id=\"T_d60f34c5_61ab_11ec_9175_f51456375b73row7_col1\" class=\"data row7 col1\" >2</td>\n",
       "            </tr>\n",
       "            <tr>\n",
       "                        <th id=\"T_d60f34c5_61ab_11ec_9175_f51456375b73level0_row8\" class=\"row_heading level0 row8\" >Master</th>\n",
       "                        <td id=\"T_d60f34c5_61ab_11ec_9175_f51456375b73row8_col0\" class=\"data row8 col0\" >0</td>\n",
       "                        <td id=\"T_d60f34c5_61ab_11ec_9175_f51456375b73row8_col1\" class=\"data row8 col1\" >40</td>\n",
       "            </tr>\n",
       "            <tr>\n",
       "                        <th id=\"T_d60f34c5_61ab_11ec_9175_f51456375b73level0_row9\" class=\"row_heading level0 row9\" >Miss</th>\n",
       "                        <td id=\"T_d60f34c5_61ab_11ec_9175_f51456375b73row9_col0\" class=\"data row9 col0\" >182</td>\n",
       "                        <td id=\"T_d60f34c5_61ab_11ec_9175_f51456375b73row9_col1\" class=\"data row9 col1\" >0</td>\n",
       "            </tr>\n",
       "            <tr>\n",
       "                        <th id=\"T_d60f34c5_61ab_11ec_9175_f51456375b73level0_row10\" class=\"row_heading level0 row10\" >Mlle</th>\n",
       "                        <td id=\"T_d60f34c5_61ab_11ec_9175_f51456375b73row10_col0\" class=\"data row10 col0\" >2</td>\n",
       "                        <td id=\"T_d60f34c5_61ab_11ec_9175_f51456375b73row10_col1\" class=\"data row10 col1\" >0</td>\n",
       "            </tr>\n",
       "            <tr>\n",
       "                        <th id=\"T_d60f34c5_61ab_11ec_9175_f51456375b73level0_row11\" class=\"row_heading level0 row11\" >Mme</th>\n",
       "                        <td id=\"T_d60f34c5_61ab_11ec_9175_f51456375b73row11_col0\" class=\"data row11 col0\" >1</td>\n",
       "                        <td id=\"T_d60f34c5_61ab_11ec_9175_f51456375b73row11_col1\" class=\"data row11 col1\" >0</td>\n",
       "            </tr>\n",
       "            <tr>\n",
       "                        <th id=\"T_d60f34c5_61ab_11ec_9175_f51456375b73level0_row12\" class=\"row_heading level0 row12\" >Mr</th>\n",
       "                        <td id=\"T_d60f34c5_61ab_11ec_9175_f51456375b73row12_col0\" class=\"data row12 col0\" >0</td>\n",
       "                        <td id=\"T_d60f34c5_61ab_11ec_9175_f51456375b73row12_col1\" class=\"data row12 col1\" >517</td>\n",
       "            </tr>\n",
       "            <tr>\n",
       "                        <th id=\"T_d60f34c5_61ab_11ec_9175_f51456375b73level0_row13\" class=\"row_heading level0 row13\" >Mrs</th>\n",
       "                        <td id=\"T_d60f34c5_61ab_11ec_9175_f51456375b73row13_col0\" class=\"data row13 col0\" >125</td>\n",
       "                        <td id=\"T_d60f34c5_61ab_11ec_9175_f51456375b73row13_col1\" class=\"data row13 col1\" >0</td>\n",
       "            </tr>\n",
       "            <tr>\n",
       "                        <th id=\"T_d60f34c5_61ab_11ec_9175_f51456375b73level0_row14\" class=\"row_heading level0 row14\" >Ms</th>\n",
       "                        <td id=\"T_d60f34c5_61ab_11ec_9175_f51456375b73row14_col0\" class=\"data row14 col0\" >1</td>\n",
       "                        <td id=\"T_d60f34c5_61ab_11ec_9175_f51456375b73row14_col1\" class=\"data row14 col1\" >0</td>\n",
       "            </tr>\n",
       "            <tr>\n",
       "                        <th id=\"T_d60f34c5_61ab_11ec_9175_f51456375b73level0_row15\" class=\"row_heading level0 row15\" >Rev</th>\n",
       "                        <td id=\"T_d60f34c5_61ab_11ec_9175_f51456375b73row15_col0\" class=\"data row15 col0\" >0</td>\n",
       "                        <td id=\"T_d60f34c5_61ab_11ec_9175_f51456375b73row15_col1\" class=\"data row15 col1\" >6</td>\n",
       "            </tr>\n",
       "            <tr>\n",
       "                        <th id=\"T_d60f34c5_61ab_11ec_9175_f51456375b73level0_row16\" class=\"row_heading level0 row16\" >Sir</th>\n",
       "                        <td id=\"T_d60f34c5_61ab_11ec_9175_f51456375b73row16_col0\" class=\"data row16 col0\" >0</td>\n",
       "                        <td id=\"T_d60f34c5_61ab_11ec_9175_f51456375b73row16_col1\" class=\"data row16 col1\" >1</td>\n",
       "            </tr>\n",
       "    </tbody></table>"
      ],
      "text/plain": [
       "<pandas.io.formats.style.Styler at 0x279b21c9cd0>"
      ]
     },
     "execution_count": 47,
     "metadata": {},
     "output_type": "execute_result"
    }
   ],
   "source": [
    "pd.crosstab(train_data.initial,train_data.Sex).style.background_gradient(cmap='summer_r')"
   ]
  },
  {
   "cell_type": "code",
   "execution_count": 48,
   "metadata": {},
   "outputs": [
    {
     "data": {
      "text/html": [
       "<style  type=\"text/css\" >\n",
       "#T_d775e669_61ab_11ec_b5d0_f51456375b73row0_col0,#T_d775e669_61ab_11ec_b5d0_f51456375b73row1_col1,#T_d775e669_61ab_11ec_b5d0_f51456375b73row2_col0,#T_d775e669_61ab_11ec_b5d0_f51456375b73row3_col0,#T_d775e669_61ab_11ec_b5d0_f51456375b73row4_col1,#T_d775e669_61ab_11ec_b5d0_f51456375b73row5_col0,#T_d775e669_61ab_11ec_b5d0_f51456375b73row6_col1,#T_d775e669_61ab_11ec_b5d0_f51456375b73row7_col1,#T_d775e669_61ab_11ec_b5d0_f51456375b73row8_col0{\n",
       "            background-color:  #ffff66;\n",
       "            color:  #000000;\n",
       "        }#T_d775e669_61ab_11ec_b5d0_f51456375b73row0_col1,#T_d775e669_61ab_11ec_b5d0_f51456375b73row8_col1{\n",
       "            background-color:  #fdfe66;\n",
       "            color:  #000000;\n",
       "        }#T_d775e669_61ab_11ec_b5d0_f51456375b73row1_col0,#T_d775e669_61ab_11ec_b5d0_f51456375b73row7_col0{\n",
       "            background-color:  #fcfe66;\n",
       "            color:  #000000;\n",
       "        }#T_d775e669_61ab_11ec_b5d0_f51456375b73row2_col1{\n",
       "            background-color:  #fefe66;\n",
       "            color:  #000000;\n",
       "        }#T_d775e669_61ab_11ec_b5d0_f51456375b73row3_col1{\n",
       "            background-color:  #e9f466;\n",
       "            color:  #000000;\n",
       "        }#T_d775e669_61ab_11ec_b5d0_f51456375b73row4_col0,#T_d775e669_61ab_11ec_b5d0_f51456375b73row5_col1{\n",
       "            background-color:  #008066;\n",
       "            color:  #f1f1f1;\n",
       "        }#T_d775e669_61ab_11ec_b5d0_f51456375b73row6_col0{\n",
       "            background-color:  #138966;\n",
       "            color:  #000000;\n",
       "        }</style><table id=\"T_d775e669_61ab_11ec_b5d0_f51456375b73\" ><thead>    <tr>        <th class=\"index_name level0\" >Sex</th>        <th class=\"col_heading level0 col0\" >female</th>        <th class=\"col_heading level0 col1\" >male</th>    </tr>    <tr>        <th class=\"index_name level0\" >initial</th>        <th class=\"blank\" ></th>        <th class=\"blank\" ></th>    </tr></thead><tbody>\n",
       "                <tr>\n",
       "                        <th id=\"T_d775e669_61ab_11ec_b5d0_f51456375b73level0_row0\" class=\"row_heading level0 row0\" >Col</th>\n",
       "                        <td id=\"T_d775e669_61ab_11ec_b5d0_f51456375b73row0_col0\" class=\"data row0 col0\" >0</td>\n",
       "                        <td id=\"T_d775e669_61ab_11ec_b5d0_f51456375b73row0_col1\" class=\"data row0 col1\" >2</td>\n",
       "            </tr>\n",
       "            <tr>\n",
       "                        <th id=\"T_d775e669_61ab_11ec_b5d0_f51456375b73level0_row1\" class=\"row_heading level0 row1\" >Dona</th>\n",
       "                        <td id=\"T_d775e669_61ab_11ec_b5d0_f51456375b73row1_col0\" class=\"data row1 col0\" >1</td>\n",
       "                        <td id=\"T_d775e669_61ab_11ec_b5d0_f51456375b73row1_col1\" class=\"data row1 col1\" >0</td>\n",
       "            </tr>\n",
       "            <tr>\n",
       "                        <th id=\"T_d775e669_61ab_11ec_b5d0_f51456375b73level0_row2\" class=\"row_heading level0 row2\" >Dr</th>\n",
       "                        <td id=\"T_d775e669_61ab_11ec_b5d0_f51456375b73row2_col0\" class=\"data row2 col0\" >0</td>\n",
       "                        <td id=\"T_d775e669_61ab_11ec_b5d0_f51456375b73row2_col1\" class=\"data row2 col1\" >1</td>\n",
       "            </tr>\n",
       "            <tr>\n",
       "                        <th id=\"T_d775e669_61ab_11ec_b5d0_f51456375b73level0_row3\" class=\"row_heading level0 row3\" >Master</th>\n",
       "                        <td id=\"T_d775e669_61ab_11ec_b5d0_f51456375b73row3_col0\" class=\"data row3 col0\" >0</td>\n",
       "                        <td id=\"T_d775e669_61ab_11ec_b5d0_f51456375b73row3_col1\" class=\"data row3 col1\" >21</td>\n",
       "            </tr>\n",
       "            <tr>\n",
       "                        <th id=\"T_d775e669_61ab_11ec_b5d0_f51456375b73level0_row4\" class=\"row_heading level0 row4\" >Miss</th>\n",
       "                        <td id=\"T_d775e669_61ab_11ec_b5d0_f51456375b73row4_col0\" class=\"data row4 col0\" >78</td>\n",
       "                        <td id=\"T_d775e669_61ab_11ec_b5d0_f51456375b73row4_col1\" class=\"data row4 col1\" >0</td>\n",
       "            </tr>\n",
       "            <tr>\n",
       "                        <th id=\"T_d775e669_61ab_11ec_b5d0_f51456375b73level0_row5\" class=\"row_heading level0 row5\" >Mr</th>\n",
       "                        <td id=\"T_d775e669_61ab_11ec_b5d0_f51456375b73row5_col0\" class=\"data row5 col0\" >0</td>\n",
       "                        <td id=\"T_d775e669_61ab_11ec_b5d0_f51456375b73row5_col1\" class=\"data row5 col1\" >240</td>\n",
       "            </tr>\n",
       "            <tr>\n",
       "                        <th id=\"T_d775e669_61ab_11ec_b5d0_f51456375b73level0_row6\" class=\"row_heading level0 row6\" >Mrs</th>\n",
       "                        <td id=\"T_d775e669_61ab_11ec_b5d0_f51456375b73row6_col0\" class=\"data row6 col0\" >72</td>\n",
       "                        <td id=\"T_d775e669_61ab_11ec_b5d0_f51456375b73row6_col1\" class=\"data row6 col1\" >0</td>\n",
       "            </tr>\n",
       "            <tr>\n",
       "                        <th id=\"T_d775e669_61ab_11ec_b5d0_f51456375b73level0_row7\" class=\"row_heading level0 row7\" >Ms</th>\n",
       "                        <td id=\"T_d775e669_61ab_11ec_b5d0_f51456375b73row7_col0\" class=\"data row7 col0\" >1</td>\n",
       "                        <td id=\"T_d775e669_61ab_11ec_b5d0_f51456375b73row7_col1\" class=\"data row7 col1\" >0</td>\n",
       "            </tr>\n",
       "            <tr>\n",
       "                        <th id=\"T_d775e669_61ab_11ec_b5d0_f51456375b73level0_row8\" class=\"row_heading level0 row8\" >Rev</th>\n",
       "                        <td id=\"T_d775e669_61ab_11ec_b5d0_f51456375b73row8_col0\" class=\"data row8 col0\" >0</td>\n",
       "                        <td id=\"T_d775e669_61ab_11ec_b5d0_f51456375b73row8_col1\" class=\"data row8 col1\" >2</td>\n",
       "            </tr>\n",
       "    </tbody></table>"
      ],
      "text/plain": [
       "<pandas.io.formats.style.Styler at 0x279b23bba30>"
      ]
     },
     "execution_count": 48,
     "metadata": {},
     "output_type": "execute_result"
    }
   ],
   "source": [
    "pd.crosstab(test.initial,test.Sex).style.background_gradient(cmap='summer_r')"
   ]
  },
  {
   "cell_type": "markdown",
   "metadata": {},
   "source": [
    "이름으로 대부분 성별과 나이를 파악할 수 있음.\n"
   ]
  },
  {
   "cell_type": "code",
   "execution_count": 50,
   "metadata": {
    "scrolled": true
   },
   "outputs": [
    {
     "data": {
      "text/plain": [
       "initial\n",
       "Miss     1.641892\n",
       "Mr       2.704156\n",
       "Mrs      3.036364\n",
       "Other    1.021277\n",
       "Name: Age, dtype: float64"
      ]
     },
     "execution_count": 50,
     "metadata": {},
     "output_type": "execute_result"
    }
   ],
   "source": [
    "train_data['initial'].replace(['Capt','Col','Countess','Don','Dr','Jonkheer','Lady','Major','Master','Miss','Mlle','Mme','Mr','Mrs','Ms','Rev','Sir'],['Mr','Other','Mrs','Mr','Mr','Other','Mrs','Other','Other','Miss','Mr','Miss','Mr','Mrs','Miss','Other','Mr'],inplace=True)\n",
    "train_data.groupby('initial')['Age'].mean()\n",
    "#train_data에서 뽑아낸 이름들을 나이를 알 수 있는 호칭으로 분류한 후 나이 알아보기"
   ]
  },
  {
   "cell_type": "code",
   "execution_count": 51,
   "metadata": {},
   "outputs": [
    {
     "data": {
      "text/plain": [
       "initial\n",
       "Mr    2.48494\n",
       "Name: Age, dtype: float64"
      ]
     },
     "execution_count": 51,
     "metadata": {},
     "output_type": "execute_result"
    }
   ],
   "source": [
    "test['initial'].replace(['Mr', 'Mrs', 'Miss', 'Master', 'Ms', 'Col', 'Rev', 'Dr', 'Dona'],inplace=True)\n",
    "test.groupby('initial')['Age'].mean()\n",
    "#test에서 뽑아낸 이름들을 나이를 알 수 있는 호칭으로 분류한 후 나이 알아보기"
   ]
  },
  {
   "cell_type": "markdown",
   "metadata": {},
   "source": [
    "위에서 0,1,2,3,4,5,6,7로 표현했던 숫자들로 이름들의 나이가 정리되어 있음.\n",
    "하지만 소숫점으로는 나이를 정의하지 않았으므로 반올림해서 정해줌."
   ]
  },
  {
   "cell_type": "code",
   "execution_count": 52,
   "metadata": {},
   "outputs": [],
   "source": [
    "train_data.loc[(train_data.Age.isnull()) & (train_data.initial == 'Miss'), 'Age'] = 2\n",
    "train_data.loc[(train_data.Age.isnull()) & (train_data.initial == 'Mr'), 'Age'] = 3\n",
    "train_data.loc[(train_data.Age.isnull()) & (train_data.initial == 'Mrs'), 'Age'] = 3\n",
    "train_data.loc[(train_data.Age.isnull()) & (train_data.initial == 'Other'), 'Age'] = 1"
   ]
  },
  {
   "cell_type": "code",
   "execution_count": 53,
   "metadata": {},
   "outputs": [],
   "source": [
    "test.loc[(test.Age.isnull()) & (test.initial == 'Miss'), 'Age'] = 2\n",
    "test.loc[(test.Age.isnull()) & (test.initial == 'Mr'), 'Age'] = 3\n",
    "test.loc[(test.Age.isnull()) & (test.initial == 'Mrs'), 'Age'] = 3\n",
    "test.loc[(test.Age.isnull()) & (test.initial == 'Other'), 'Age'] = 1"
   ]
  },
  {
   "cell_type": "code",
   "execution_count": 54,
   "metadata": {},
   "outputs": [
    {
     "data": {
      "text/html": [
       "<style  type=\"text/css\" >\n",
       "#T_107acdc0_61ac_11ec_bcf8_f51456375b73row0_col0{\n",
       "            background-color:  #008066;\n",
       "            color:  #f1f1f1;\n",
       "        }#T_107acdc0_61ac_11ec_bcf8_f51456375b73row1_col0{\n",
       "            background-color:  #178b66;\n",
       "            color:  #000000;\n",
       "        }#T_107acdc0_61ac_11ec_bcf8_f51456375b73row2_col0{\n",
       "            background-color:  #9acc66;\n",
       "            color:  #000000;\n",
       "        }#T_107acdc0_61ac_11ec_bcf8_f51456375b73row3_col0{\n",
       "            background-color:  #b7db66;\n",
       "            color:  #000000;\n",
       "        }#T_107acdc0_61ac_11ec_bcf8_f51456375b73row4_col0{\n",
       "            background-color:  #cbe566;\n",
       "            color:  #000000;\n",
       "        }#T_107acdc0_61ac_11ec_bcf8_f51456375b73row5_col0{\n",
       "            background-color:  #deee66;\n",
       "            color:  #000000;\n",
       "        }#T_107acdc0_61ac_11ec_bcf8_f51456375b73row6_col0{\n",
       "            background-color:  #f5fa66;\n",
       "            color:  #000000;\n",
       "        }#T_107acdc0_61ac_11ec_bcf8_f51456375b73row7_col0{\n",
       "            background-color:  #ffff66;\n",
       "            color:  #000000;\n",
       "        }</style><table id=\"T_107acdc0_61ac_11ec_bcf8_f51456375b73\" ><thead>    <tr>        <th class=\"blank level0\" ></th>        <th class=\"col_heading level0 col0\" >Age</th>    </tr></thead><tbody>\n",
       "                <tr>\n",
       "                        <th id=\"T_107acdc0_61ac_11ec_bcf8_f51456375b73level0_row0\" class=\"row_heading level0 row0\" >3.0</th>\n",
       "                        <td id=\"T_107acdc0_61ac_11ec_bcf8_f51456375b73row0_col0\" class=\"data row0 col0\" >292</td>\n",
       "            </tr>\n",
       "            <tr>\n",
       "                        <th id=\"T_107acdc0_61ac_11ec_bcf8_f51456375b73level0_row1\" class=\"row_heading level0 row1\" >2.0</th>\n",
       "                        <td id=\"T_107acdc0_61ac_11ec_bcf8_f51456375b73row1_col0\" class=\"data row1 col0\" >266</td>\n",
       "            </tr>\n",
       "            <tr>\n",
       "                        <th id=\"T_107acdc0_61ac_11ec_bcf8_f51456375b73level0_row2\" class=\"row_heading level0 row2\" >1.0</th>\n",
       "                        <td id=\"T_107acdc0_61ac_11ec_bcf8_f51456375b73row2_col0\" class=\"data row2 col0\" >119</td>\n",
       "            </tr>\n",
       "            <tr>\n",
       "                        <th id=\"T_107acdc0_61ac_11ec_bcf8_f51456375b73level0_row3\" class=\"row_heading level0 row3\" >4.0</th>\n",
       "                        <td id=\"T_107acdc0_61ac_11ec_bcf8_f51456375b73row3_col0\" class=\"data row3 col0\" >86</td>\n",
       "            </tr>\n",
       "            <tr>\n",
       "                        <th id=\"T_107acdc0_61ac_11ec_bcf8_f51456375b73level0_row4\" class=\"row_heading level0 row4\" >0.0</th>\n",
       "                        <td id=\"T_107acdc0_61ac_11ec_bcf8_f51456375b73row4_col0\" class=\"data row4 col0\" >64</td>\n",
       "            </tr>\n",
       "            <tr>\n",
       "                        <th id=\"T_107acdc0_61ac_11ec_bcf8_f51456375b73level0_row5\" class=\"row_heading level0 row5\" >5.0</th>\n",
       "                        <td id=\"T_107acdc0_61ac_11ec_bcf8_f51456375b73row5_col0\" class=\"data row5 col0\" >42</td>\n",
       "            </tr>\n",
       "            <tr>\n",
       "                        <th id=\"T_107acdc0_61ac_11ec_bcf8_f51456375b73level0_row6\" class=\"row_heading level0 row6\" >6.0</th>\n",
       "                        <td id=\"T_107acdc0_61ac_11ec_bcf8_f51456375b73row6_col0\" class=\"data row6 col0\" >17</td>\n",
       "            </tr>\n",
       "            <tr>\n",
       "                        <th id=\"T_107acdc0_61ac_11ec_bcf8_f51456375b73level0_row7\" class=\"row_heading level0 row7\" >7.0</th>\n",
       "                        <td id=\"T_107acdc0_61ac_11ec_bcf8_f51456375b73row7_col0\" class=\"data row7 col0\" >5</td>\n",
       "            </tr>\n",
       "    </tbody></table>"
      ],
      "text/plain": [
       "<pandas.io.formats.style.Styler at 0x279b26ab430>"
      ]
     },
     "execution_count": 54,
     "metadata": {},
     "output_type": "execute_result"
    }
   ],
   "source": [
    "train_data.Age.value_counts().to_frame().style.background_gradient(cmap='summer_r')"
   ]
  },
  {
   "cell_type": "code",
   "execution_count": 55,
   "metadata": {},
   "outputs": [
    {
     "data": {
      "text/html": [
       "<style  type=\"text/css\" >\n",
       "#T_14612b9a_61ac_11ec_897f_f51456375b73row0_col0{\n",
       "            background-color:  #008066;\n",
       "            color:  #f1f1f1;\n",
       "        }#T_14612b9a_61ac_11ec_897f_f51456375b73row1_col0{\n",
       "            background-color:  #128866;\n",
       "            color:  #000000;\n",
       "        }#T_14612b9a_61ac_11ec_897f_f51456375b73row2_col0{\n",
       "            background-color:  #abd566;\n",
       "            color:  #000000;\n",
       "        }#T_14612b9a_61ac_11ec_897f_f51456375b73row3_col0{\n",
       "            background-color:  #add666;\n",
       "            color:  #000000;\n",
       "        }#T_14612b9a_61ac_11ec_897f_f51456375b73row4_col0{\n",
       "            background-color:  #d9ec66;\n",
       "            color:  #000000;\n",
       "        }#T_14612b9a_61ac_11ec_897f_f51456375b73row5_col0{\n",
       "            background-color:  #ddee66;\n",
       "            color:  #000000;\n",
       "        }#T_14612b9a_61ac_11ec_897f_f51456375b73row6_col0{\n",
       "            background-color:  #eff766;\n",
       "            color:  #000000;\n",
       "        }#T_14612b9a_61ac_11ec_897f_f51456375b73row7_col0{\n",
       "            background-color:  #ffff66;\n",
       "            color:  #000000;\n",
       "        }</style><table id=\"T_14612b9a_61ac_11ec_897f_f51456375b73\" ><thead>    <tr>        <th class=\"blank level0\" ></th>        <th class=\"col_heading level0 col0\" >Age</th>    </tr></thead><tbody>\n",
       "                <tr>\n",
       "                        <th id=\"T_14612b9a_61ac_11ec_897f_f51456375b73level0_row0\" class=\"row_heading level0 row0\" >3.0</th>\n",
       "                        <td id=\"T_14612b9a_61ac_11ec_897f_f51456375b73row0_col0\" class=\"data row0 col0\" >141</td>\n",
       "            </tr>\n",
       "            <tr>\n",
       "                        <th id=\"T_14612b9a_61ac_11ec_897f_f51456375b73level0_row1\" class=\"row_heading level0 row1\" >2.0</th>\n",
       "                        <td id=\"T_14612b9a_61ac_11ec_897f_f51456375b73row1_col0\" class=\"data row1 col0\" >131</td>\n",
       "            </tr>\n",
       "            <tr>\n",
       "                        <th id=\"T_14612b9a_61ac_11ec_897f_f51456375b73level0_row2\" class=\"row_heading level0 row2\" >1.0</th>\n",
       "                        <td id=\"T_14612b9a_61ac_11ec_897f_f51456375b73row2_col0\" class=\"data row2 col0\" >47</td>\n",
       "            </tr>\n",
       "            <tr>\n",
       "                        <th id=\"T_14612b9a_61ac_11ec_897f_f51456375b73level0_row3\" class=\"row_heading level0 row3\" >4.0</th>\n",
       "                        <td id=\"T_14612b9a_61ac_11ec_897f_f51456375b73row3_col0\" class=\"data row3 col0\" >46</td>\n",
       "            </tr>\n",
       "            <tr>\n",
       "                        <th id=\"T_14612b9a_61ac_11ec_897f_f51456375b73level0_row4\" class=\"row_heading level0 row4\" >0.0</th>\n",
       "                        <td id=\"T_14612b9a_61ac_11ec_897f_f51456375b73row4_col0\" class=\"data row4 col0\" >22</td>\n",
       "            </tr>\n",
       "            <tr>\n",
       "                        <th id=\"T_14612b9a_61ac_11ec_897f_f51456375b73level0_row5\" class=\"row_heading level0 row5\" >5.0</th>\n",
       "                        <td id=\"T_14612b9a_61ac_11ec_897f_f51456375b73row5_col0\" class=\"data row5 col0\" >20</td>\n",
       "            </tr>\n",
       "            <tr>\n",
       "                        <th id=\"T_14612b9a_61ac_11ec_897f_f51456375b73level0_row6\" class=\"row_heading level0 row6\" >6.0</th>\n",
       "                        <td id=\"T_14612b9a_61ac_11ec_897f_f51456375b73row6_col0\" class=\"data row6 col0\" >10</td>\n",
       "            </tr>\n",
       "            <tr>\n",
       "                        <th id=\"T_14612b9a_61ac_11ec_897f_f51456375b73level0_row7\" class=\"row_heading level0 row7\" >7.0</th>\n",
       "                        <td id=\"T_14612b9a_61ac_11ec_897f_f51456375b73row7_col0\" class=\"data row7 col0\" >1</td>\n",
       "            </tr>\n",
       "    </tbody></table>"
      ],
      "text/plain": [
       "<pandas.io.formats.style.Styler at 0x279b25c21c0>"
      ]
     },
     "execution_count": 55,
     "metadata": {},
     "output_type": "execute_result"
    }
   ],
   "source": [
    "test.Age.value_counts().to_frame().style.background_gradient(cmap='summer_r')"
   ]
  },
  {
   "cell_type": "code",
   "execution_count": 56,
   "metadata": {},
   "outputs": [
    {
     "data": {
      "text/plain": [
       "PassengerId      0\n",
       "Survived         0\n",
       "Pclass           0\n",
       "Name             0\n",
       "Sex              0\n",
       "Age              0\n",
       "SibSp            0\n",
       "Parch            0\n",
       "Ticket           0\n",
       "Fare             0\n",
       "Cabin          687\n",
       "Embarked         2\n",
       "initial          0\n",
       "dtype: int64"
      ]
     },
     "execution_count": 56,
     "metadata": {},
     "output_type": "execute_result"
    }
   ],
   "source": [
    "train_data.isnull().sum() #train_data에서 나이의 빈 데이터였던 부분이 채워진 것을 확인할 수 있음"
   ]
  },
  {
   "cell_type": "code",
   "execution_count": 57,
   "metadata": {},
   "outputs": [
    {
     "data": {
      "text/plain": [
       "PassengerId      0\n",
       "Pclass           0\n",
       "Name             0\n",
       "Sex              0\n",
       "Age              0\n",
       "SibSp            0\n",
       "Parch            0\n",
       "Ticket           0\n",
       "Fare             1\n",
       "Cabin          327\n",
       "Embarked         0\n",
       "initial          0\n",
       "dtype: int64"
      ]
     },
     "execution_count": 57,
     "metadata": {},
     "output_type": "execute_result"
    }
   ],
   "source": [
    "test.isnull().sum() #test에서 나이의 빈 데이터였던 부분이 채워진 것을 확인할 수 있음"
   ]
  },
  {
   "cell_type": "code",
   "execution_count": 58,
   "metadata": {},
   "outputs": [
    {
     "data": {
      "text/html": [
       "<style  type=\"text/css\" >\n",
       "#T_2b6b6400_61ac_11ec_9eac_f51456375b73row0_col0{\n",
       "            background-color:  #e1f066;\n",
       "            color:  #000000;\n",
       "        }#T_2b6b6400_61ac_11ec_9eac_f51456375b73row0_col1{\n",
       "            background-color:  #f6fa66;\n",
       "            color:  #000000;\n",
       "        }#T_2b6b6400_61ac_11ec_9eac_f51456375b73row0_col2{\n",
       "            background-color:  #f7fb66;\n",
       "            color:  #000000;\n",
       "        }#T_2b6b6400_61ac_11ec_9eac_f51456375b73row0_col3{\n",
       "            background-color:  #f2f866;\n",
       "            color:  #000000;\n",
       "        }#T_2b6b6400_61ac_11ec_9eac_f51456375b73row1_col0{\n",
       "            background-color:  #badc66;\n",
       "            color:  #000000;\n",
       "        }#T_2b6b6400_61ac_11ec_9eac_f51456375b73row1_col1{\n",
       "            background-color:  #f4fa66;\n",
       "            color:  #000000;\n",
       "        }#T_2b6b6400_61ac_11ec_9eac_f51456375b73row1_col2,#T_2b6b6400_61ac_11ec_9eac_f51456375b73row2_col0,#T_2b6b6400_61ac_11ec_9eac_f51456375b73row2_col1,#T_2b6b6400_61ac_11ec_9eac_f51456375b73row3_col0,#T_2b6b6400_61ac_11ec_9eac_f51456375b73row3_col3{\n",
       "            background-color:  #ffff66;\n",
       "            color:  #000000;\n",
       "        }#T_2b6b6400_61ac_11ec_9eac_f51456375b73row1_col3{\n",
       "            background-color:  #edf666;\n",
       "            color:  #000000;\n",
       "        }#T_2b6b6400_61ac_11ec_9eac_f51456375b73row2_col2{\n",
       "            background-color:  #f5fa66;\n",
       "            color:  #000000;\n",
       "        }#T_2b6b6400_61ac_11ec_9eac_f51456375b73row2_col3{\n",
       "            background-color:  #fafc66;\n",
       "            color:  #000000;\n",
       "        }#T_2b6b6400_61ac_11ec_9eac_f51456375b73row3_col1,#T_2b6b6400_61ac_11ec_9eac_f51456375b73row3_col2{\n",
       "            background-color:  #fefe66;\n",
       "            color:  #000000;\n",
       "        }#T_2b6b6400_61ac_11ec_9eac_f51456375b73row4_col0{\n",
       "            background-color:  #c1e066;\n",
       "            color:  #000000;\n",
       "        }#T_2b6b6400_61ac_11ec_9eac_f51456375b73row4_col1{\n",
       "            background-color:  #86c266;\n",
       "            color:  #000000;\n",
       "        }#T_2b6b6400_61ac_11ec_9eac_f51456375b73row4_col2{\n",
       "            background-color:  #70b866;\n",
       "            color:  #000000;\n",
       "        }#T_2b6b6400_61ac_11ec_9eac_f51456375b73row4_col3{\n",
       "            background-color:  #89c466;\n",
       "            color:  #000000;\n",
       "        }#T_2b6b6400_61ac_11ec_9eac_f51456375b73row5_col0{\n",
       "            background-color:  #a8d366;\n",
       "            color:  #000000;\n",
       "        }#T_2b6b6400_61ac_11ec_9eac_f51456375b73row5_col1{\n",
       "            background-color:  #97cb66;\n",
       "            color:  #000000;\n",
       "        }#T_2b6b6400_61ac_11ec_9eac_f51456375b73row5_col2{\n",
       "            background-color:  #e8f466;\n",
       "            color:  #000000;\n",
       "        }#T_2b6b6400_61ac_11ec_9eac_f51456375b73row5_col3{\n",
       "            background-color:  #c8e366;\n",
       "            color:  #000000;\n",
       "        }#T_2b6b6400_61ac_11ec_9eac_f51456375b73row6_col0,#T_2b6b6400_61ac_11ec_9eac_f51456375b73row6_col1,#T_2b6b6400_61ac_11ec_9eac_f51456375b73row6_col2,#T_2b6b6400_61ac_11ec_9eac_f51456375b73row6_col3{\n",
       "            background-color:  #008066;\n",
       "            color:  #f1f1f1;\n",
       "        }</style><table id=\"T_2b6b6400_61ac_11ec_9eac_f51456375b73\" ><thead>    <tr>        <th class=\"blank\" ></th>        <th class=\"index_name level0\" >Pclass</th>        <th class=\"col_heading level0 col0\" >1</th>        <th class=\"col_heading level0 col1\" >2</th>        <th class=\"col_heading level0 col2\" >3</th>        <th class=\"col_heading level0 col3\" >All</th>    </tr>    <tr>        <th class=\"index_name level0\" >Embarked</th>        <th class=\"index_name level1\" >Survived</th>        <th class=\"blank\" ></th>        <th class=\"blank\" ></th>        <th class=\"blank\" ></th>        <th class=\"blank\" ></th>    </tr></thead><tbody>\n",
       "                <tr>\n",
       "                        <th id=\"T_2b6b6400_61ac_11ec_9eac_f51456375b73level0_row0\" class=\"row_heading level0 row0\" rowspan=2>C</th>\n",
       "                        <th id=\"T_2b6b6400_61ac_11ec_9eac_f51456375b73level1_row0\" class=\"row_heading level1 row0\" >0</th>\n",
       "                        <td id=\"T_2b6b6400_61ac_11ec_9eac_f51456375b73row0_col0\" class=\"data row0 col0\" >26</td>\n",
       "                        <td id=\"T_2b6b6400_61ac_11ec_9eac_f51456375b73row0_col1\" class=\"data row0 col1\" >8</td>\n",
       "                        <td id=\"T_2b6b6400_61ac_11ec_9eac_f51456375b73row0_col2\" class=\"data row0 col2\" >41</td>\n",
       "                        <td id=\"T_2b6b6400_61ac_11ec_9eac_f51456375b73row0_col3\" class=\"data row0 col3\" >75</td>\n",
       "            </tr>\n",
       "            <tr>\n",
       "                                <th id=\"T_2b6b6400_61ac_11ec_9eac_f51456375b73level1_row1\" class=\"row_heading level1 row1\" >1</th>\n",
       "                        <td id=\"T_2b6b6400_61ac_11ec_9eac_f51456375b73row1_col0\" class=\"data row1 col0\" >59</td>\n",
       "                        <td id=\"T_2b6b6400_61ac_11ec_9eac_f51456375b73row1_col1\" class=\"data row1 col1\" >9</td>\n",
       "                        <td id=\"T_2b6b6400_61ac_11ec_9eac_f51456375b73row1_col2\" class=\"data row1 col2\" >25</td>\n",
       "                        <td id=\"T_2b6b6400_61ac_11ec_9eac_f51456375b73row1_col3\" class=\"data row1 col3\" >93</td>\n",
       "            </tr>\n",
       "            <tr>\n",
       "                        <th id=\"T_2b6b6400_61ac_11ec_9eac_f51456375b73level0_row2\" class=\"row_heading level0 row2\" rowspan=2>Q</th>\n",
       "                        <th id=\"T_2b6b6400_61ac_11ec_9eac_f51456375b73level1_row2\" class=\"row_heading level1 row2\" >0</th>\n",
       "                        <td id=\"T_2b6b6400_61ac_11ec_9eac_f51456375b73row2_col0\" class=\"data row2 col0\" >1</td>\n",
       "                        <td id=\"T_2b6b6400_61ac_11ec_9eac_f51456375b73row2_col1\" class=\"data row2 col1\" >1</td>\n",
       "                        <td id=\"T_2b6b6400_61ac_11ec_9eac_f51456375b73row2_col2\" class=\"data row2 col2\" >45</td>\n",
       "                        <td id=\"T_2b6b6400_61ac_11ec_9eac_f51456375b73row2_col3\" class=\"data row2 col3\" >47</td>\n",
       "            </tr>\n",
       "            <tr>\n",
       "                                <th id=\"T_2b6b6400_61ac_11ec_9eac_f51456375b73level1_row3\" class=\"row_heading level1 row3\" >1</th>\n",
       "                        <td id=\"T_2b6b6400_61ac_11ec_9eac_f51456375b73row3_col0\" class=\"data row3 col0\" >1</td>\n",
       "                        <td id=\"T_2b6b6400_61ac_11ec_9eac_f51456375b73row3_col1\" class=\"data row3 col1\" >2</td>\n",
       "                        <td id=\"T_2b6b6400_61ac_11ec_9eac_f51456375b73row3_col2\" class=\"data row3 col2\" >27</td>\n",
       "                        <td id=\"T_2b6b6400_61ac_11ec_9eac_f51456375b73row3_col3\" class=\"data row3 col3\" >30</td>\n",
       "            </tr>\n",
       "            <tr>\n",
       "                        <th id=\"T_2b6b6400_61ac_11ec_9eac_f51456375b73level0_row4\" class=\"row_heading level0 row4\" rowspan=2>S</th>\n",
       "                        <th id=\"T_2b6b6400_61ac_11ec_9eac_f51456375b73level1_row4\" class=\"row_heading level1 row4\" >0</th>\n",
       "                        <td id=\"T_2b6b6400_61ac_11ec_9eac_f51456375b73row4_col0\" class=\"data row4 col0\" >53</td>\n",
       "                        <td id=\"T_2b6b6400_61ac_11ec_9eac_f51456375b73row4_col1\" class=\"data row4 col1\" >88</td>\n",
       "                        <td id=\"T_2b6b6400_61ac_11ec_9eac_f51456375b73row4_col2\" class=\"data row4 col2\" >286</td>\n",
       "                        <td id=\"T_2b6b6400_61ac_11ec_9eac_f51456375b73row4_col3\" class=\"data row4 col3\" >427</td>\n",
       "            </tr>\n",
       "            <tr>\n",
       "                                <th id=\"T_2b6b6400_61ac_11ec_9eac_f51456375b73level1_row5\" class=\"row_heading level1 row5\" >1</th>\n",
       "                        <td id=\"T_2b6b6400_61ac_11ec_9eac_f51456375b73row5_col0\" class=\"data row5 col0\" >74</td>\n",
       "                        <td id=\"T_2b6b6400_61ac_11ec_9eac_f51456375b73row5_col1\" class=\"data row5 col1\" >76</td>\n",
       "                        <td id=\"T_2b6b6400_61ac_11ec_9eac_f51456375b73row5_col2\" class=\"data row5 col2\" >67</td>\n",
       "                        <td id=\"T_2b6b6400_61ac_11ec_9eac_f51456375b73row5_col3\" class=\"data row5 col3\" >217</td>\n",
       "            </tr>\n",
       "            <tr>\n",
       "                        <th id=\"T_2b6b6400_61ac_11ec_9eac_f51456375b73level0_row6\" class=\"row_heading level0 row6\" >All</th>\n",
       "                        <th id=\"T_2b6b6400_61ac_11ec_9eac_f51456375b73level1_row6\" class=\"row_heading level1 row6\" ></th>\n",
       "                        <td id=\"T_2b6b6400_61ac_11ec_9eac_f51456375b73row6_col0\" class=\"data row6 col0\" >214</td>\n",
       "                        <td id=\"T_2b6b6400_61ac_11ec_9eac_f51456375b73row6_col1\" class=\"data row6 col1\" >184</td>\n",
       "                        <td id=\"T_2b6b6400_61ac_11ec_9eac_f51456375b73row6_col2\" class=\"data row6 col2\" >491</td>\n",
       "                        <td id=\"T_2b6b6400_61ac_11ec_9eac_f51456375b73row6_col3\" class=\"data row6 col3\" >889</td>\n",
       "            </tr>\n",
       "    </tbody></table>"
      ],
      "text/plain": [
       "<pandas.io.formats.style.Styler at 0x279ad34cc70>"
      ]
     },
     "execution_count": 58,
     "metadata": {},
     "output_type": "execute_result"
    }
   ],
   "source": [
    "#다음으로는 비교적 채워넣을 데이터 수가 적은 Embarked 데이터를 채워줄 것이다. 위와 같은 과정을 거치면 된다.\n",
    "pd.crosstab([train_data.Embarked, train_data.Survived], train_data.Pclass, margins = True).style.background_gradient(cmap = 'summer_r')"
   ]
  },
  {
   "cell_type": "code",
   "execution_count": 59,
   "metadata": {},
   "outputs": [
    {
     "data": {
      "image/png": "[encoded data removed]",
      "text/plain": [
       "<Figure size 360x360 with 1 Axes>"
      ]
     },
     "metadata": {
      "needs_background": "light"
     },
     "output_type": "display_data"
    }
   ],
   "source": [
    "sns.factorplot('Embarked','Survived', data = train_data)\n",
    "plt.show()"
   ]
  },
  {
   "cell_type": "markdown",
   "metadata": {},
   "source": [
    "따라서 S에서 생존율이 가장 낮은 것을 알 수 있다.\n",
    "그렇다면 높은 확률로 빈 데이터는 S일 것이다."
   ]
  },
  {
   "cell_type": "code",
   "execution_count": 60,
   "metadata": {},
   "outputs": [],
   "source": [
    "train_data.Embarked.fillna('S', inplace = True)\n",
    "test.Embarked.fillna('S', inplace = True)\n",
    "# fillna는 데이터를 채워넣는 역할, inplace = True는 그 전 데이터를 없애고 바로 채워넣는 역할"
   ]
  },
  {
   "cell_type": "code",
   "execution_count": 62,
   "metadata": {
    "scrolled": true
   },
   "outputs": [
    {
     "data": {
      "text/plain": [
       "PassengerId      0\n",
       "Survived         0\n",
       "Pclass           0\n",
       "Name             0\n",
       "Sex              0\n",
       "Age              0\n",
       "SibSp            0\n",
       "Parch            0\n",
       "Ticket           0\n",
       "Fare             0\n",
       "Cabin          687\n",
       "Embarked         0\n",
       "initial          0\n",
       "dtype: int64"
      ]
     },
     "execution_count": 62,
     "metadata": {},
     "output_type": "execute_result"
    }
   ],
   "source": [
    "train_data.isnull().sum() #츨발지의 빈 데이터였던 부분이 채워진 것을 확인할 수 있음"
   ]
  },
  {
   "cell_type": "code",
   "execution_count": 63,
   "metadata": {},
   "outputs": [
    {
     "data": {
      "text/plain": [
       "PassengerId      0\n",
       "Pclass           0\n",
       "Name             0\n",
       "Sex              0\n",
       "Age              0\n",
       "SibSp            0\n",
       "Parch            0\n",
       "Ticket           0\n",
       "Fare             1\n",
       "Cabin          327\n",
       "Embarked         0\n",
       "initial          0\n",
       "dtype: int64"
      ]
     },
     "execution_count": 63,
     "metadata": {},
     "output_type": "execute_result"
    }
   ],
   "source": [
    "test.isnull().sum()"
   ]
  },
  {
   "cell_type": "markdown",
   "metadata": {},
   "source": [
    "마지막으로 남은 객실 번호는 빈 데이터의 수가 매우 많아 제대로 된 예측을 할 수 없다."
   ]
  },
  {
   "cell_type": "code",
   "execution_count": 65,
   "metadata": {},
   "outputs": [],
   "source": [
    "# 가족의 수를 정의해주기\n",
    "train_data['Family_size'] = 0\n",
    "train_data['Family_size'] = train_data['Parch'] + train_data['SibSp']\n",
    "train_data['Alone']=0\n",
    "train_data.loc[train_data.Family_size == 0, 'Alone']=1"
   ]
  },
  {
   "cell_type": "code",
   "execution_count": 66,
   "metadata": {},
   "outputs": [],
   "source": [
    "test['Family_size'] = 0\n",
    "test['Family_size'] = test['Parch'] + test['SibSp']\n",
    "test['Alone']=0\n",
    "test.loc[test.Family_size == 0, 'Alone']=1"
   ]
  },
  {
   "cell_type": "code",
   "execution_count": 67,
   "metadata": {},
   "outputs": [
    {
     "data": {
      "text/plain": [
       "0      1\n",
       "1      1\n",
       "2      0\n",
       "3      1\n",
       "4      0\n",
       "      ..\n",
       "886    0\n",
       "887    0\n",
       "888    3\n",
       "889    0\n",
       "890    0\n",
       "Name: Family_size, Length: 891, dtype: int64"
      ]
     },
     "execution_count": 67,
     "metadata": {},
     "output_type": "execute_result"
    }
   ],
   "source": [
    "train_data.Family_size"
   ]
  },
  {
   "cell_type": "code",
   "execution_count": 68,
   "metadata": {},
   "outputs": [
    {
     "data": {
      "image/png": "[encoded data removed]",
      "text/plain": [
       "<Figure size 360x360 with 1 Axes>"
      ]
     },
     "metadata": {
      "needs_background": "light"
     },
     "output_type": "display_data"
    }
   ],
   "source": [
    "sns.factorplot(train_data.Family_size,'Survived', data = train_data)\n",
    "plt.show()"
   ]
  },
  {
   "cell_type": "code",
   "execution_count": 69,
   "metadata": {
    "scrolled": true
   },
   "outputs": [
    {
     "data": {
      "image/png": "[encoded data removed]",
      "text/plain": [
       "<Figure size 360x360 with 1 Axes>"
      ]
     },
     "metadata": {
      "needs_background": "light"
     },
     "output_type": "display_data"
    }
   ],
   "source": [
    "sns.factorplot(train_data['Alone'],'Survived', data = train_data)\n",
    "plt.show()"
   ]
  },
  {
   "cell_type": "markdown",
   "metadata": {},
   "source": [
    "위 그래프 두 개를 통해 가족이 없을 수록 생존 확률이 낮다는 사실을 알 수 있음"
   ]
  },
  {
   "cell_type": "markdown",
   "metadata": {},
   "source": [
    "나이를 0부터 7의 숫자로 표현한 것처럼 다른 범주들도 숫자로 바꿔줘야 함"
   ]
  },
  {
   "cell_type": "code",
   "execution_count": 70,
   "metadata": {},
   "outputs": [],
   "source": [
    "train_data.Sex.replace(['male','female'],[0,1],inplace=True)\n",
    "train_data.Embarked.replace(['S','C','Q'],[0,1,2],inplace=True)\n",
    "train_data.initial.replace(['Mr','Mrs','Miss','Other'],[0,1,2,3],inplace=True)"
   ]
  },
  {
   "cell_type": "code",
   "execution_count": 71,
   "metadata": {},
   "outputs": [],
   "source": [
    "test.Sex.replace(['male','female'],[0,1],inplace=True)\n",
    "test.Embarked.replace(['S','C','Q'],[0,1,2],inplace=True)\n",
    "test.initial.replace(['Mr','Mrs','Miss','Other'],[0,1,2,3],inplace=True)"
   ]
  },
  {
   "cell_type": "code",
   "execution_count": 72,
   "metadata": {},
   "outputs": [
    {
     "data": {
      "image/png": "[encoded data removed]",
      "text/plain": [
       "<Figure size 1296x1080 with 2 Axes>"
      ]
     },
     "metadata": {
      "needs_background": "light"
     },
     "output_type": "display_data"
    }
   ],
   "source": [
    "train_data.drop(['Name','Age','Ticket','Fare','Cabin','PassengerId'],axis=1,inplace=True) #train_data에서 drop할 정보들\n",
    "sns.heatmap(train_data.corr(),annot=True,cmap='RdYlGn',linewidths=0.2,annot_kws={'size':20})\n",
    "fig=plt.gcf()\n",
    "fig.set_size_inches(18,15)\n",
    "plt.xticks(fontsize=14)\n",
    "plt.yticks(fontsize=14)\n",
    "plt.show()"
   ]
  },
  {
   "cell_type": "code",
   "execution_count": 73,
   "metadata": {},
   "outputs": [
    {
     "data": {
      "image/png": "[encoded data removed]",
      "text/plain": [
       "<Figure size 1296x1080 with 2 Axes>"
      ]
     },
     "metadata": {
      "needs_background": "light"
     },
     "output_type": "display_data"
    }
   ],
   "source": [
    "test.drop(['Name','Age','Ticket','Fare','Cabin','PassengerId'],axis=1,inplace=True)\n",
    "sns.heatmap(test.corr(),annot=True,cmap='RdYlGn',linewidths=0.2,annot_kws={'size':20})\n",
    "fig=plt.gcf()\n",
    "fig.set_size_inches(18,15)\n",
    "plt.xticks(fontsize=14)\n",
    "plt.yticks(fontsize=14)\n",
    "plt.show()"
   ]
  },
  {
   "cell_type": "code",
   "execution_count": 74,
   "metadata": {},
   "outputs": [],
   "source": [
    "from sklearn.linear_model import LogisticRegression\n",
    "from sklearn import svm #분류를 위해 기준선을 정의해야 하기 때문\n",
    "from sklearn.ensemble import RandomForestClassifier\n",
    "from sklearn.neighbors import KNeighborsClassifier\n",
    "from sklearn.naive_bayes import GaussianNB\n",
    "from sklearn.tree import DecisionTreeClassifier\n",
    "from sklearn.model_selection import train_test_split\n",
    "from sklearn import metrics\n",
    "from sklearn.metrics import confusion_matrix\n",
    "from sklearn.metrics import accuracy_score"
   ]
  },
  {
   "cell_type": "code",
   "execution_count": 75,
   "metadata": {},
   "outputs": [],
   "source": [
    "X = train_data.drop('Survived', axis = 1) #axis=1은 열 방향\n",
    "Y = train_data['Survived']"
   ]
  },
  {
   "cell_type": "code",
   "execution_count": 76,
   "metadata": {},
   "outputs": [
    {
     "data": {
      "text/html": [
       "<div>\n",
       "<style scoped>\n",
       "    .dataframe tbody tr th:only-of-type {\n",
       "        vertical-align: middle;\n",
       "    }\n",
       "\n",
       "    .dataframe tbody tr th {\n",
       "        vertical-align: top;\n",
       "    }\n",
       "\n",
       "    .dataframe thead th {\n",
       "        text-align: right;\n",
       "    }\n",
       "</style>\n",
       "<table border=\"1\" class=\"dataframe\">\n",
       "  <thead>\n",
       "    <tr style=\"text-align: right;\">\n",
       "      <th></th>\n",
       "      <th>Pclass</th>\n",
       "      <th>Sex</th>\n",
       "      <th>SibSp</th>\n",
       "      <th>Parch</th>\n",
       "      <th>Embarked</th>\n",
       "      <th>initial</th>\n",
       "      <th>Family_size</th>\n",
       "      <th>Alone</th>\n",
       "    </tr>\n",
       "  </thead>\n",
       "  <tbody>\n",
       "    <tr>\n",
       "      <th>0</th>\n",
       "      <td>3</td>\n",
       "      <td>0</td>\n",
       "      <td>1</td>\n",
       "      <td>0</td>\n",
       "      <td>0</td>\n",
       "      <td>0</td>\n",
       "      <td>1</td>\n",
       "      <td>0</td>\n",
       "    </tr>\n",
       "    <tr>\n",
       "      <th>1</th>\n",
       "      <td>1</td>\n",
       "      <td>1</td>\n",
       "      <td>1</td>\n",
       "      <td>0</td>\n",
       "      <td>1</td>\n",
       "      <td>1</td>\n",
       "      <td>1</td>\n",
       "      <td>0</td>\n",
       "    </tr>\n",
       "    <tr>\n",
       "      <th>2</th>\n",
       "      <td>3</td>\n",
       "      <td>1</td>\n",
       "      <td>0</td>\n",
       "      <td>0</td>\n",
       "      <td>0</td>\n",
       "      <td>2</td>\n",
       "      <td>0</td>\n",
       "      <td>1</td>\n",
       "    </tr>\n",
       "    <tr>\n",
       "      <th>3</th>\n",
       "      <td>1</td>\n",
       "      <td>1</td>\n",
       "      <td>1</td>\n",
       "      <td>0</td>\n",
       "      <td>0</td>\n",
       "      <td>1</td>\n",
       "      <td>1</td>\n",
       "      <td>0</td>\n",
       "    </tr>\n",
       "    <tr>\n",
       "      <th>4</th>\n",
       "      <td>3</td>\n",
       "      <td>0</td>\n",
       "      <td>0</td>\n",
       "      <td>0</td>\n",
       "      <td>0</td>\n",
       "      <td>0</td>\n",
       "      <td>0</td>\n",
       "      <td>1</td>\n",
       "    </tr>\n",
       "    <tr>\n",
       "      <th>...</th>\n",
       "      <td>...</td>\n",
       "      <td>...</td>\n",
       "      <td>...</td>\n",
       "      <td>...</td>\n",
       "      <td>...</td>\n",
       "      <td>...</td>\n",
       "      <td>...</td>\n",
       "      <td>...</td>\n",
       "    </tr>\n",
       "    <tr>\n",
       "      <th>886</th>\n",
       "      <td>2</td>\n",
       "      <td>0</td>\n",
       "      <td>0</td>\n",
       "      <td>0</td>\n",
       "      <td>0</td>\n",
       "      <td>3</td>\n",
       "      <td>0</td>\n",
       "      <td>1</td>\n",
       "    </tr>\n",
       "    <tr>\n",
       "      <th>887</th>\n",
       "      <td>1</td>\n",
       "      <td>1</td>\n",
       "      <td>0</td>\n",
       "      <td>0</td>\n",
       "      <td>0</td>\n",
       "      <td>2</td>\n",
       "      <td>0</td>\n",
       "      <td>1</td>\n",
       "    </tr>\n",
       "    <tr>\n",
       "      <th>888</th>\n",
       "      <td>3</td>\n",
       "      <td>1</td>\n",
       "      <td>1</td>\n",
       "      <td>2</td>\n",
       "      <td>0</td>\n",
       "      <td>2</td>\n",
       "      <td>3</td>\n",
       "      <td>0</td>\n",
       "    </tr>\n",
       "    <tr>\n",
       "      <th>889</th>\n",
       "      <td>1</td>\n",
       "      <td>0</td>\n",
       "      <td>0</td>\n",
       "      <td>0</td>\n",
       "      <td>1</td>\n",
       "      <td>0</td>\n",
       "      <td>0</td>\n",
       "      <td>1</td>\n",
       "    </tr>\n",
       "    <tr>\n",
       "      <th>890</th>\n",
       "      <td>3</td>\n",
       "      <td>0</td>\n",
       "      <td>0</td>\n",
       "      <td>0</td>\n",
       "      <td>2</td>\n",
       "      <td>0</td>\n",
       "      <td>0</td>\n",
       "      <td>1</td>\n",
       "    </tr>\n",
       "  </tbody>\n",
       "</table>\n",
       "<p>891 rows × 8 columns</p>\n",
       "</div>"
      ],
      "text/plain": [
       "     Pclass  Sex  SibSp  Parch  Embarked  initial  Family_size  Alone\n",
       "0         3    0      1      0         0        0            1      0\n",
       "1         1    1      1      0         1        1            1      0\n",
       "2         3    1      0      0         0        2            0      1\n",
       "3         1    1      1      0         0        1            1      0\n",
       "4         3    0      0      0         0        0            0      1\n",
       "..      ...  ...    ...    ...       ...      ...          ...    ...\n",
       "886       2    0      0      0         0        3            0      1\n",
       "887       1    1      0      0         0        2            0      1\n",
       "888       3    1      1      2         0        2            3      0\n",
       "889       1    0      0      0         1        0            0      1\n",
       "890       3    0      0      0         2        0            0      1\n",
       "\n",
       "[891 rows x 8 columns]"
      ]
     },
     "execution_count": 76,
     "metadata": {},
     "output_type": "execute_result"
    }
   ],
   "source": [
    "X"
   ]
  },
  {
   "cell_type": "code",
   "execution_count": 77,
   "metadata": {},
   "outputs": [
    {
     "name": "stdout",
     "output_type": "stream",
     "text": [
      "90.66985645933015\n"
     ]
    }
   ],
   "source": [
    "model = svm.SVC(kernel = 'rbf', C=1, gamma = 0.1) #무한차원\n",
    "model.fit(X, Y)\n",
    "predic1=model.predict(test)\n",
    "print(accuracy_score(predic1, gender_data.Survived.values)*100)"
   ]
  },
  {
   "cell_type": "code",
   "execution_count": 78,
   "metadata": {},
   "outputs": [
    {
     "name": "stdout",
     "output_type": "stream",
     "text": [
      "98.80382775119617\n"
     ]
    }
   ],
   "source": [
    "model = svm.SVC(kernel = 'linear', C=1, gamma = 0.1)\n",
    "model.fit(X, Y)\n",
    "predic2=model.predict(test)\n",
    "print(accuracy_score(predic2, gender_data.Survived.values)*100)"
   ]
  },
  {
   "cell_type": "code",
   "execution_count": 79,
   "metadata": {},
   "outputs": [
    {
     "name": "stdout",
     "output_type": "stream",
     "text": [
      "82.05741626794259\n"
     ]
    }
   ],
   "source": [
    "model = LogisticRegression()\n",
    "model.fit(X, Y)\n",
    "predic3 = model.predict(test)\n",
    "print((accuracy_score(predic3, gender_data.Survived.values))*100)"
   ]
  },
  {
   "cell_type": "code",
   "execution_count": 80,
   "metadata": {},
   "outputs": [
    {
     "name": "stdout",
     "output_type": "stream",
     "text": [
      "72.96650717703349\n"
     ]
    }
   ],
   "source": [
    "model = DecisionTreeClassifier()\n",
    "model.fit(X, Y)\n",
    "predic4 = model.predict(test)\n",
    "print((accuracy_score(predic4, gender_data.Survived.values))*100)"
   ]
  },
  {
   "cell_type": "code",
   "execution_count": 81,
   "metadata": {},
   "outputs": [
    {
     "name": "stdout",
     "output_type": "stream",
     "text": [
      "94.73684210526315\n"
     ]
    }
   ],
   "source": [
    "model = GaussianNB()\n",
    "model.fit(X, Y)\n",
    "predic5 = model.predict(test)\n",
    "print((accuracy_score(predic5, gender_data.Survived.values))*100)"
   ]
  },
  {
   "cell_type": "code",
   "execution_count": 82,
   "metadata": {},
   "outputs": [
    {
     "name": "stdout",
     "output_type": "stream",
     "text": [
      "89.71291866028707\n"
     ]
    }
   ],
   "source": [
    "model = RandomForestClassifier()\n",
    "model.fit(X, Y)\n",
    "prediction7 = model.predict(test)\n",
    "print((accuracy_score(prediction7, gender_data.Survived.values))*100)"
   ]
  },
  {
   "cell_type": "markdown",
   "metadata": {},
   "source": [
    "model = svm.SVC(kernel = 'linear', C=1, gamma = 0.1) 가 정확도가 가장 높음"
   ]
  },
  {
   "cell_type": "code",
   "execution_count": 83,
   "metadata": {},
   "outputs": [
    {
     "name": "stdout",
     "output_type": "stream",
     "text": [
      "98.80382775119617\n"
     ]
    }
   ],
   "source": [
    "model = svm.SVC(kernel = 'linear', C=1, gamma = 0.1)\n",
    "model.fit(X, Y)\n",
    "predic=model.predict(test)\n",
    "print(accuracy_score(predic2, gender_data.Survived.values)*100)"
   ]
  },
  {
   "cell_type": "code",
   "execution_count": 84,
   "metadata": {},
   "outputs": [
    {
     "data": {
      "text/html": [
       "<div>\n",
       "<style scoped>\n",
       "    .dataframe tbody tr th:only-of-type {\n",
       "        vertical-align: middle;\n",
       "    }\n",
       "\n",
       "    .dataframe tbody tr th {\n",
       "        vertical-align: top;\n",
       "    }\n",
       "\n",
       "    .dataframe thead th {\n",
       "        text-align: right;\n",
       "    }\n",
       "</style>\n",
       "<table border=\"1\" class=\"dataframe\">\n",
       "  <thead>\n",
       "    <tr style=\"text-align: right;\">\n",
       "      <th></th>\n",
       "      <th>Survived</th>\n",
       "    </tr>\n",
       "  </thead>\n",
       "  <tbody>\n",
       "    <tr>\n",
       "      <th>0</th>\n",
       "      <td>0</td>\n",
       "    </tr>\n",
       "    <tr>\n",
       "      <th>1</th>\n",
       "      <td>1</td>\n",
       "    </tr>\n",
       "    <tr>\n",
       "      <th>2</th>\n",
       "      <td>0</td>\n",
       "    </tr>\n",
       "    <tr>\n",
       "      <th>3</th>\n",
       "      <td>0</td>\n",
       "    </tr>\n",
       "    <tr>\n",
       "      <th>4</th>\n",
       "      <td>1</td>\n",
       "    </tr>\n",
       "    <tr>\n",
       "      <th>...</th>\n",
       "      <td>...</td>\n",
       "    </tr>\n",
       "    <tr>\n",
       "      <th>413</th>\n",
       "      <td>0</td>\n",
       "    </tr>\n",
       "    <tr>\n",
       "      <th>414</th>\n",
       "      <td>1</td>\n",
       "    </tr>\n",
       "    <tr>\n",
       "      <th>415</th>\n",
       "      <td>0</td>\n",
       "    </tr>\n",
       "    <tr>\n",
       "      <th>416</th>\n",
       "      <td>0</td>\n",
       "    </tr>\n",
       "    <tr>\n",
       "      <th>417</th>\n",
       "      <td>0</td>\n",
       "    </tr>\n",
       "  </tbody>\n",
       "</table>\n",
       "<p>418 rows × 1 columns</p>\n",
       "</div>"
      ],
      "text/plain": [
       "     Survived\n",
       "0           0\n",
       "1           1\n",
       "2           0\n",
       "3           0\n",
       "4           1\n",
       "..        ...\n",
       "413         0\n",
       "414         1\n",
       "415         0\n",
       "416         0\n",
       "417         0\n",
       "\n",
       "[418 rows x 1 columns]"
      ]
     },
     "execution_count": 84,
     "metadata": {},
     "output_type": "execute_result"
    }
   ],
   "source": [
    "Survived=pd.DataFrame(predic).rename(columns={0:'Survived'})\n",
    "Survived"
   ]
  },
  {
   "cell_type": "code",
   "execution_count": 85,
   "metadata": {},
   "outputs": [
    {
     "data": {
      "text/html": [
       "<div>\n",
       "<style scoped>\n",
       "    .dataframe tbody tr th:only-of-type {\n",
       "        vertical-align: middle;\n",
       "    }\n",
       "\n",
       "    .dataframe tbody tr th {\n",
       "        vertical-align: top;\n",
       "    }\n",
       "\n",
       "    .dataframe thead th {\n",
       "        text-align: right;\n",
       "    }\n",
       "</style>\n",
       "<table border=\"1\" class=\"dataframe\">\n",
       "  <thead>\n",
       "    <tr style=\"text-align: right;\">\n",
       "      <th></th>\n",
       "      <th>PassengerId</th>\n",
       "    </tr>\n",
       "  </thead>\n",
       "  <tbody>\n",
       "    <tr>\n",
       "      <th>0</th>\n",
       "      <td>892</td>\n",
       "    </tr>\n",
       "    <tr>\n",
       "      <th>1</th>\n",
       "      <td>893</td>\n",
       "    </tr>\n",
       "    <tr>\n",
       "      <th>2</th>\n",
       "      <td>894</td>\n",
       "    </tr>\n",
       "    <tr>\n",
       "      <th>3</th>\n",
       "      <td>895</td>\n",
       "    </tr>\n",
       "    <tr>\n",
       "      <th>4</th>\n",
       "      <td>896</td>\n",
       "    </tr>\n",
       "    <tr>\n",
       "      <th>...</th>\n",
       "      <td>...</td>\n",
       "    </tr>\n",
       "    <tr>\n",
       "      <th>413</th>\n",
       "      <td>1305</td>\n",
       "    </tr>\n",
       "    <tr>\n",
       "      <th>414</th>\n",
       "      <td>1306</td>\n",
       "    </tr>\n",
       "    <tr>\n",
       "      <th>415</th>\n",
       "      <td>1307</td>\n",
       "    </tr>\n",
       "    <tr>\n",
       "      <th>416</th>\n",
       "      <td>1308</td>\n",
       "    </tr>\n",
       "    <tr>\n",
       "      <th>417</th>\n",
       "      <td>1309</td>\n",
       "    </tr>\n",
       "  </tbody>\n",
       "</table>\n",
       "<p>418 rows × 1 columns</p>\n",
       "</div>"
      ],
      "text/plain": [
       "     PassengerId\n",
       "0            892\n",
       "1            893\n",
       "2            894\n",
       "3            895\n",
       "4            896\n",
       "..           ...\n",
       "413         1305\n",
       "414         1306\n",
       "415         1307\n",
       "416         1308\n",
       "417         1309\n",
       "\n",
       "[418 rows x 1 columns]"
      ]
     },
     "execution_count": 85,
     "metadata": {},
     "output_type": "execute_result"
    }
   ],
   "source": [
    "test = pd.read_csv('../Titanic/test.csv')\n",
    "test_df = test.drop(['Pclass', 'Name', 'Sex', 'Age', 'SibSp', 'Parch', 'Ticket', 'Fare', 'Cabin', 'Embarked'],axis=1)\n",
    "test_df"
   ]
  },
  {
   "cell_type": "code",
   "execution_count": 86,
   "metadata": {},
   "outputs": [
    {
     "data": {
      "text/html": [
       "<div>\n",
       "<style scoped>\n",
       "    .dataframe tbody tr th:only-of-type {\n",
       "        vertical-align: middle;\n",
       "    }\n",
       "\n",
       "    .dataframe tbody tr th {\n",
       "        vertical-align: top;\n",
       "    }\n",
       "\n",
       "    .dataframe thead th {\n",
       "        text-align: right;\n",
       "    }\n",
       "</style>\n",
       "<table border=\"1\" class=\"dataframe\">\n",
       "  <thead>\n",
       "    <tr style=\"text-align: right;\">\n",
       "      <th></th>\n",
       "      <th>PassengerId</th>\n",
       "      <th>Survived</th>\n",
       "    </tr>\n",
       "  </thead>\n",
       "  <tbody>\n",
       "    <tr>\n",
       "      <th>0</th>\n",
       "      <td>892</td>\n",
       "      <td>0</td>\n",
       "    </tr>\n",
       "    <tr>\n",
       "      <th>1</th>\n",
       "      <td>893</td>\n",
       "      <td>1</td>\n",
       "    </tr>\n",
       "    <tr>\n",
       "      <th>2</th>\n",
       "      <td>894</td>\n",
       "      <td>0</td>\n",
       "    </tr>\n",
       "    <tr>\n",
       "      <th>3</th>\n",
       "      <td>895</td>\n",
       "      <td>0</td>\n",
       "    </tr>\n",
       "    <tr>\n",
       "      <th>4</th>\n",
       "      <td>896</td>\n",
       "      <td>1</td>\n",
       "    </tr>\n",
       "    <tr>\n",
       "      <th>...</th>\n",
       "      <td>...</td>\n",
       "      <td>...</td>\n",
       "    </tr>\n",
       "    <tr>\n",
       "      <th>413</th>\n",
       "      <td>1305</td>\n",
       "      <td>0</td>\n",
       "    </tr>\n",
       "    <tr>\n",
       "      <th>414</th>\n",
       "      <td>1306</td>\n",
       "      <td>1</td>\n",
       "    </tr>\n",
       "    <tr>\n",
       "      <th>415</th>\n",
       "      <td>1307</td>\n",
       "      <td>0</td>\n",
       "    </tr>\n",
       "    <tr>\n",
       "      <th>416</th>\n",
       "      <td>1308</td>\n",
       "      <td>0</td>\n",
       "    </tr>\n",
       "    <tr>\n",
       "      <th>417</th>\n",
       "      <td>1309</td>\n",
       "      <td>0</td>\n",
       "    </tr>\n",
       "  </tbody>\n",
       "</table>\n",
       "<p>418 rows × 2 columns</p>\n",
       "</div>"
      ],
      "text/plain": [
       "     PassengerId  Survived\n",
       "0            892         0\n",
       "1            893         1\n",
       "2            894         0\n",
       "3            895         0\n",
       "4            896         1\n",
       "..           ...       ...\n",
       "413         1305         0\n",
       "414         1306         1\n",
       "415         1307         0\n",
       "416         1308         0\n",
       "417         1309         0\n",
       "\n",
       "[418 rows x 2 columns]"
      ]
     },
     "execution_count": 86,
     "metadata": {},
     "output_type": "execute_result"
    }
   ],
   "source": [
    "test_df=pd.concat([test_df,Survived],axis=1)\n",
    "test_df"
   ]
  },
  {
   "cell_type": "code",
   "execution_count": 88,
   "metadata": {},
   "outputs": [],
   "source": [
    "test_df.to_csv('../Titanic/titanic.csv', index=False)"
   ]
  },
  {
   "cell_type": "markdown",
   "metadata": {},
   "source": [
    "# 2. Image classification with CNN"
   ]
  },
  {
   "cell_type": "markdown",
   "metadata": {},
   "source": [
    "- cnn을 이용하여 다음 이미지를 분류하여라.\n",
    "- 인풋 데이터는 rgb 정보를 가지고 있다.\n",
    "- 코드, 결과, 보고서를 함께 제출하여야 한다."
   ]
  },
  {
   "cell_type": "code",
   "execution_count": 1,
   "metadata": {},
   "outputs": [],
   "source": [
    "import torch\n",
    "import torchvision\n",
    "import torchvision.transforms as transforms"
   ]
  },
  {
   "cell_type": "code",
   "execution_count": 2,
   "metadata": {},
   "outputs": [
    {
     "data": {
      "text/plain": [
       "Normalize(mean=(0.5, 0.5, 0.5), std=(0.5, 0.5, 0.5))"
      ]
     },
     "execution_count": 2,
     "metadata": {},
     "output_type": "execute_result"
    }
   ],
   "source": [
    "transforms.Normalize((0.5, 0.5, 0.5),(0.5, 0.5, 0.5))"
   ]
  },
  {
   "cell_type": "code",
   "execution_count": 3,
   "metadata": {},
   "outputs": [
    {
     "name": "stdout",
     "output_type": "stream",
     "text": [
      "Files already downloaded and verified\n",
      "Files already downloaded and verified\n"
     ]
    },
    {
     "data": {
      "text/plain": [
       "['airplane',\n",
       " 'automobile',\n",
       " 'bird',\n",
       " 'cat',\n",
       " 'deer',\n",
       " 'dog',\n",
       " 'frog',\n",
       " 'horse',\n",
       " 'ship',\n",
       " 'truck']"
      ]
     },
     "execution_count": 3,
     "metadata": {},
     "output_type": "execute_result"
    }
   ],
   "source": [
    "batch_size = 4\n",
    "\n",
    "trainset = torchvision.datasets.CIFAR10(\n",
    "    root='./data', \n",
    "    train=True,\n",
    "    download=True, \n",
    "    transform=torchvision.transforms.ToTensor()\n",
    ")\n",
    "train_loader = torch.utils.data.DataLoader(\n",
    "    trainset, \n",
    "    batch_size=batch_size,\n",
    "    shuffle=True\n",
    ")\n",
    "\n",
    "testset = torchvision.datasets.CIFAR10(\n",
    "    root='./data', \n",
    "    train=False,\n",
    "    download=True, \n",
    "    transform=torchvision.transforms.ToTensor()\n",
    ")\n",
    "test_loader = torch.utils.data.DataLoader(\n",
    "    testset, \n",
    "    batch_size=batch_size,\n",
    "    shuffle=False\n",
    ")\n",
    "\n",
    "classes = trainset.classes\n",
    "classes"
   ]
  },
  {
   "cell_type": "code",
   "execution_count": 4,
   "metadata": {},
   "outputs": [
    {
     "data": {
      "text/plain": [
       "<matplotlib.image.AxesImage at 0x1b9185d2370>"
      ]
     },
     "execution_count": 4,
     "metadata": {},
     "output_type": "execute_result"
    },
    {
     "data": {
      "image/png": "[encoded data removed]",
      "text/plain": [
       "<Figure size 432x288 with 1 Axes>"
      ]
     },
     "metadata": {
      "needs_background": "light"
     },
     "output_type": "display_data"
    }
   ],
   "source": [
    "import matplotlib.pyplot as plt\n",
    "\n",
    "images=train_loader.dataset[1][0]\n",
    "plt.imshow(images.permute(1, 2, 0))"
   ]
  },
  {
   "cell_type": "code",
   "execution_count": 5,
   "metadata": {
    "scrolled": true
   },
   "outputs": [
    {
     "data": {
      "text/plain": [
       "torch.Size([3, 32, 32])"
      ]
     },
     "execution_count": 5,
     "metadata": {},
     "output_type": "execute_result"
    }
   ],
   "source": [
    "images.size() # [3, 32, 32]: 3 -> RGB(3), 32x32 "
   ]
  },
  {
   "cell_type": "code",
   "execution_count": 6,
   "metadata": {},
   "outputs": [],
   "source": [
    "import torch.nn as nn\n",
    "\n",
    "class cnn(nn.Module): \n",
    "    def __init__(self): \n",
    "        super(cnn, self).__init__() \n",
    "        self.conv1 = nn.Conv2d(in_channels=3, out_channels=32, kernel_size=3, padding=1)#RGB이므로 in_channels=3이어야 함 \n",
    "        self.conv2 = nn.Conv2d(32, 64, 3, padding=1)\n",
    "        self.fc1 = nn.Linear(8*8*64,256)\n",
    "        self.fc2 = nn.Linear(256,184)\n",
    "        self.fc3 = nn.Linear(184,10)\n",
    "\n",
    "    def forward(self, x):\n",
    "        # convoultion\n",
    "        x = self.conv1(x)\n",
    "        x = nn.functional.relu(x)\n",
    "        x = nn.functional.max_pool2d(x, 2) \n",
    "        x = self.conv2(x)\n",
    "        x = nn.functional.relu(x)\n",
    "        x = nn.functional.max_pool2d(x, 2)\n",
    "        # fully connected\n",
    "        x = torch.flatten(x,1)\n",
    "        x = self.fc1(x)\n",
    "        x = nn.functional.relu(x)\n",
    "        x = self.fc2(x)\n",
    "        x = nn.functional.relu(x)\n",
    "        x = self.fc3(x)\n",
    "        x = nn.functional.softmax(x,dim=1)\n",
    "        return x"
   ]
  },
  {
   "cell_type": "code",
   "execution_count": 7,
   "metadata": {},
   "outputs": [],
   "source": [
    "model = cnn()\n",
    "\n",
    "learning_rate = 0.001\n",
    "criterion = nn.CrossEntropyLoss()\n",
    "optimizer = torch.optim.Adam(model.parameters(),lr=learning_rate)"
   ]
  },
  {
   "cell_type": "code",
   "execution_count": 8,
   "metadata": {},
   "outputs": [],
   "source": [
    "class Print(nn.Module):\n",
    "    def forward(self,x):\n",
    "        print(x.size())\n",
    "        return x"
   ]
  },
  {
   "cell_type": "code",
   "execution_count": 9,
   "metadata": {},
   "outputs": [
    {
     "data": {
      "text/plain": [
       "cnn(\n",
       "  (conv1): Conv2d(3, 32, kernel_size=(3, 3), stride=(1, 1), padding=(1, 1))\n",
       "  (conv2): Conv2d(32, 64, kernel_size=(3, 3), stride=(1, 1), padding=(1, 1))\n",
       "  (fc1): Linear(in_features=4096, out_features=256, bias=True)\n",
       "  (fc2): Linear(in_features=256, out_features=184, bias=True)\n",
       "  (fc3): Linear(in_features=184, out_features=10, bias=True)\n",
       ")"
      ]
     },
     "execution_count": 9,
     "metadata": {},
     "output_type": "execute_result"
    }
   ],
   "source": [
    "model"
   ]
  },
  {
   "cell_type": "code",
   "execution_count": 10,
   "metadata": {},
   "outputs": [],
   "source": [
    "# training\n",
    "\n",
    "def train(model, criterion, optimizer, data):\n",
    "    model.train()\n",
    "    for batch_i, (X, y) in enumerate(data):\n",
    "        y_pred = model(X)\n",
    "        loss = criterion(y_pred, y) \n",
    "        optimizer.zero_grad()  \n",
    "        loss.backward() \n",
    "        optimizer.step()"
   ]
  },
  {
   "cell_type": "code",
   "execution_count": 11,
   "metadata": {},
   "outputs": [],
   "source": [
    "def evaluation(model, criterion, optimizer, data, epoch):\n",
    "    model.eval()\n",
    "    test_loss = 0\n",
    "    corrects = 0\n",
    "    with torch.no_grad():\n",
    "        for batch_i, (X, y) in enumerate(data):\n",
    "            y_pred = model(X)\n",
    "            test_loss = criterion(y_pred, y)\n",
    "            \n",
    "            prediction = y_pred.max(1)[1]\n",
    "            corrects += (prediction == y).sum().item()\n",
    "            accuracy = 100. * corrects / len(test_loader.dataset)\n",
    "        \n",
    "        if(epoch% 5==0):\n",
    "            print(epoch, \"loss=\", test_loss.item(), \"accu=\", accuracy)\n",
    "            \n",
    "    return test_loss, accuracy  "
   ]
  },
  {
   "cell_type": "code",
   "execution_count": null,
   "metadata": {},
   "outputs": [
    {
     "name": "stdout",
     "output_type": "stream",
     "text": [
      "0 loss= 2.2104194164276123 accu= 33.94\n"
     ]
    }
   ],
   "source": [
    "test_Accuracy = []\n",
    "nums_epoch = 30\n",
    "for epoch in range(nums_epoch):\n",
    "    train(model, criterion, optimizer, train_loader)\n",
    "    E, accu = evaluation(model, criterion, optimizer, test_loader, epoch)\n",
    "    test_Accuracy.append(accu)"
   ]
  },
  {
   "cell_type": "code",
   "execution_count": null,
   "metadata": {},
   "outputs": [],
   "source": []
  },
  {
   "cell_type": "markdown",
   "metadata": {},
   "source": [
    "RGB는 채널이 3개여야하므로 in_channels=3으로 설정해주었다. 과제를 해결할 때는 흑백으로 되어 있어 채널이 비교적 간단했었는데, 입력 채널의 수가 늘어나니 복잡하다는 생각이 들었다.그래도 수업시간에 실습으로 해본 코드를 이용해 해결하려고 노력했다.\n",
    "먼저 여기저기 흩어져 있는 데이터들을 분석하기 쉽게 하기 위해서 [-1,1]로 normalization을 해주었다.\n",
    "CIFAR-10은 32x32 크기의 이미지이고, 흑백이 아니므로 input data의 크기는 images.size()를 통해 32*32*3임을 알 수 있었다.\n",
    "코드에 대해 설명하자면, Conv relu Maxpool Conv relu Maxpool Conv relu Maxpool Linear fullyconnected 순으로 진행되는 코드이다. Convolution은 필터의 수를 통해 합성곱 연산을 수행하는 과정이다. 여기서 필터는 이미지의 특징을 알아내기 위한 파라미터인데, CNN에서 Kernel과 필터는 같은 의미로 사용된다고 한다. 따라서 내가 사용한 필터는 3*3 필터라고 할 수 있다. 한편 Convolution을 수행하는 과정에서 필터의 영향으로 Feature map의 크기는 입력한 데이터보다 작아질 수 밖에 없다. 따라서 이를 방지하기 위해 사용하는 것이 padding이다. 패딩은 입력된 데이터 외곽에 특정 데이터로 채워넣는 역할을 하는데, 나는 1로 설정했으므로 1픽셀씩 둘러싼다는 의미가 된다. Maxpool층은 최대값만 모아주는 역할을 하며, 이 층을 통과하면 행렬의 크기가 감소하며, 채널 수의 변동이 없다.\n",
    "32*32의 이미지는 Maxpool층을 지나면서 18*18크기의 이미지로 바뀐다. 두 번째 Conv층을 지나면서  또한 2*2 크기의 max pooling을 거치면서 14*14의 이미지가 된다. 따라서 마지막 층을 거치게 되면 10*10의 이미지가 된다.\n",
    "training 과정에서 손실을 criterion으로 표현한 것을 볼 수 있다. 이를 알아내기 위해 위쪽에서 정의할 때 사용한 것을 보면nn.CrossEntropyLoss()이라고 설정한 것을 알 수 있다. crossentropyloss는 정답에 대해서만 로그를 취한 합을 구해 최종의 손실값을 구해내는 역할을 한다. optimizer.zero_grad()는 오차를 줄이기 위해 사용하며, 모델의 변화도를 재설정한다. 변화값은 더해지기 때문에 중복계산을 막기 위해 반복할 때마다 0으로 설정해준다.\n",
    "optimizer는 Adam을 사용했다. Adam은 기울기를 통해 최솟값을 구해내는 SGD와, 최솟값이 여러개일 때 분석하고 있는 데이터 주변에 존재하는 최소값에 도달할 경우 더 이상 분석하지 않는데, 이 부분을 탈출할 수 있게 해주는 momentum을 합친 역할을 해주기 때문에 더 정확한 최솟값을 얻어낼 수 있다. \n",
    "최적의 코드를 찾아내기 위해 구글링을 하면서, 같은 개념을 사용하고 데이터를 사용하더라도 구현하는 순서나 사용하는 용어에 따라서 매우 다양한 코드가 존재할 수 있음을 알게 되었다. 코드 중에는 이해할 수 있는 코드도 있었지만, 나에게 정말 어려운 코드도 있었는데, 이러한 탐색 과정을 통해 기초부터의 꼼꼼한 공부의 중요성을 깨닫게 되어 머신러닝에 대한 공부 의지를 다질 수 있는 계기가 되었다.\n",
    "위의 결과를 보면 비교적 낮은 정확도를 갖는다는 것을 알 수 있는데, 이는 CNN 구조에 대한 나의 이해 부족에서 비롯된 것이라고 생각한다. 따라서 공부를 통해 충분한 이해를 한 후 정확도를 더 높일 수 있는 코드를 만들고 싶다.\n"
   ]
  },
  {
   "cell_type": "code",
   "execution_count": null,
   "metadata": {},
   "outputs": [],
   "source": []
  },
  {
   "cell_type": "code",
   "execution_count": null,
   "metadata": {},
   "outputs": [],
   "source": []
  },
  {
   "cell_type": "code",
   "execution_count": null,
   "metadata": {},
   "outputs": [],
   "source": []
  }
 ],
 "metadata": {
  "kernelspec": {
   "display_name": "Python 3",
   "language": "python",
   "name": "python3"
  },
  "language_info": {
   "codemirror_mode": {
    "name": "ipython",
    "version": 3
   },
   "file_extension": ".py",
   "mimetype": "text/x-python",
   "name": "python",
   "nbconvert_exporter": "python",
   "pygments_lexer": "ipython3",
   "version": "3.8.5"
  }
 },
 "nbformat": 4,
 "nbformat_minor": 4
}
