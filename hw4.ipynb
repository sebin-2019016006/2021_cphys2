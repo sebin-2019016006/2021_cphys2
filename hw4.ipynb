{
 "cells": [
  {
   "cell_type": "markdown",
   "metadata": {},
   "source": [
    "# XOR"
   ]
  },
  {
   "cell_type": "markdown",
   "metadata": {},
   "source": [
    "- 하나의 히든 레이어를 도입한다.\n",
    "- input layer는 2개의 노드 + 1개의 바이어스\n",
    "- hidden layer는 3개의 노드 + 1개의 바이어스\n",
    "- output은 하나의 노드로 한다."
   ]
  },
  {
   "cell_type": "code",
   "execution_count": 1,
   "metadata": {},
   "outputs": [],
   "source": [
    "import numpy as np"
   ]
  },
  {
   "cell_type": "code",
   "execution_count": 2,
   "metadata": {},
   "outputs": [],
   "source": [
    "def sigmoid(x):\n",
    "    return 1/(1+np.exp(-x))"
   ]
  },
  {
   "cell_type": "code",
   "execution_count": 3,
   "metadata": {},
   "outputs": [],
   "source": [
    "X = np.array([[0,0,1],[0,1,1],[1,0,1],[1,1,1]]) #세번째 항은 bias\n",
    "y = np.array([[0],[1],[1],[0]])"
   ]
  },
  {
   "cell_type": "code",
   "execution_count": 4,
   "metadata": {},
   "outputs": [],
   "source": [
    "inputs, hiddens, outputs = 3, 4, 1 #3x4 matrix"
   ]
  },
  {
   "cell_type": "code",
   "execution_count": 5,
   "metadata": {},
   "outputs": [],
   "source": [
    "np.random.seed(1)\n",
    "w= 2*np.random.random((inputs,hiddens))-1 #원래 랜덤은 0부터 1사이인데 이렇게 하면 -1과 1사이가 됨\n",
    "w\n",
    "omega = 2*np.random.random((hiddens,outputs))-1"
   ]
  },
  {
   "cell_type": "code",
   "execution_count": 6,
   "metadata": {},
   "outputs": [],
   "source": [
    "def o(x):\n",
    "    sigmoid(net_0)\n",
    "    return sigmoid(net_0)"
   ]
  },
  {
   "cell_type": "code",
   "execution_count": 7,
   "metadata": {},
   "outputs": [
    {
     "data": {
      "text/plain": [
       "(array([0.44856632, 0.51939863, 0.45968497, 0.59156505]),\n",
       " array([[-0.5910955 ],\n",
       "        [ 0.75623487],\n",
       "        [-0.94522481],\n",
       "        [ 0.34093502]]))"
      ]
     },
     "execution_count": 7,
     "metadata": {},
     "output_type": "execute_result"
    }
   ],
   "source": [
    "net_h=np.dot(X[0],w) #hidden\n",
    "h=sigmoid(net_h)\n",
    "h, omega"
   ]
  },
  {
   "cell_type": "code",
   "execution_count": 8,
   "metadata": {},
   "outputs": [
    {
     "data": {
      "text/plain": [
       "array([0, 0, 1])"
      ]
     },
     "execution_count": 8,
     "metadata": {},
     "output_type": "execute_result"
    }
   ],
   "source": [
    "X[0]"
   ]
  },
  {
   "cell_type": "code",
   "execution_count": 9,
   "metadata": {},
   "outputs": [],
   "source": [
    "#정리\n",
    "\n",
    "def sigmoid(x):\n",
    "    return 1/(1+np.exp(-x))\n",
    "np.random.seed(1)\n",
    "w= 2*np.random.random((inputs,hiddens))-1 #원래 랜덤은 0부터 1사이인데 이렇게 하면 -1과 1사이가 됨\n",
    "omega = 2*np.random.random((hiddens,outputs))-1\n",
    "inputs, hiddens, outputs = 3, 4, 1"
   ]
  },
  {
   "cell_type": "code",
   "execution_count": 10,
   "metadata": {},
   "outputs": [
    {
     "name": "stdout",
     "output_type": "stream",
     "text": [
      "[0.47372957]\n",
      "[-0.51104304]\n",
      "[-0.45615914]\n",
      "[0.54470837]\n"
     ]
    }
   ],
   "source": [
    "for i in range(4):\n",
    "    net_h=np.dot(X[i],w)\n",
    "    h=sigmoid(net_h)\n",
    "    net_0=np.dot(h,omega)\n",
    "    o=sigmoid(net_0)\n",
    "    \n",
    "    error=(o - y[i])\n",
    "    print(error)"
   ]
  },
  {
   "cell_type": "code",
   "execution_count": 11,
   "metadata": {},
   "outputs": [],
   "source": [
    "w=np.random.rand(3,4)\n",
    "eta=0.1\n",
    "dh=[0,0,0,0]"
   ]
  },
  {
   "cell_type": "code",
   "execution_count": 12,
   "metadata": {},
   "outputs": [],
   "source": [
    "for n in range(1000):\n",
    "    error_sum=0\n",
    "    for i in range(4):\n",
    "        h=sigmoid(net_h)\n",
    "        net_0=np.dot(h,omega)\n",
    "        o=sigmoid(net_0)\n",
    "        \n",
    "        error=error+(o - y[i])**2\n",
    "        d0=(o-y[i])*sigmoid(net_0)*(1-sigmoid(net_0))\n",
    "        \n",
    "    for j in range(4):\n",
    "        dh[j]=d0*omega[j]*sigmoid(net_0)*(1-sigmoid(net_0))\n",
    "        omega[j]=omega[j]-eta*d0*h[j]\n",
    "        for k in range(3):\n",
    "            w[k][j]=w[k][j]-eta*dh[j]*X[i][k]\n"
   ]
  },
  {
   "cell_type": "code",
   "execution_count": 13,
   "metadata": {},
   "outputs": [
    {
     "name": "stdout",
     "output_type": "stream",
     "text": [
      "[0.0093743]\n",
      "[0.00352388]\n",
      "[0.00437517]\n",
      "[0.00267307]\n"
     ]
    }
   ],
   "source": [
    "for i in range(4):\n",
    "    net_h=np.dot(X[i],w)\n",
    "    h=sigmoid(net_h)\n",
    "    net_0=np.dot(h,omega)\n",
    "    o=sigmoid(net_0)\n",
    "    print(o)"
   ]
  },
  {
   "cell_type": "markdown",
   "metadata": {},
   "source": []
  }
 ],
 "metadata": {
  "kernelspec": {
   "display_name": "Python 3",
   "language": "python",
   "name": "python3"
  },
  "language_info": {
   "codemirror_mode": {
    "name": "ipython",
    "version": 3
   },
   "file_extension": ".py",
   "mimetype": "text/x-python",
   "name": "python",
   "nbconvert_exporter": "python",
   "pygments_lexer": "ipython3",
   "version": "3.8.5"
  }
 },
 "nbformat": 4,
 "nbformat_minor": 4
}
